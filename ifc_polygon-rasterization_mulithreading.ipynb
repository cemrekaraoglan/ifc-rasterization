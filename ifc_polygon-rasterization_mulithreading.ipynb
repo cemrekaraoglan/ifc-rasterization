{
 "cells": [
  {
   "cell_type": "code",
   "execution_count": 1,
   "metadata": {},
   "outputs": [
    {
     "name": "stdout",
     "output_type": "stream",
     "text": [
      "Jupyter environment detected. Enabling Open3D WebVisualizer.\n",
      "[Open3D INFO] WebRTC GUI backend enabled.\n",
      "[Open3D INFO] WebRTCWindowSystem: HTTP handshake server disabled.\n"
     ]
    }
   ],
   "source": [
    "import pyvista as pv\n",
    "import numpy as np\n",
    "from typing import Any, Tuple\n",
    "from importlib import reload\n",
    "import multiprocessing\n",
    "import ifcopenshell\n",
    "import ifcopenshell.geom\n",
    "import time\n",
    "from functools import reduce\n",
    "import open3d as o3d\n",
    "import random\n",
    "import glob\n",
    "import os\n",
    "import pandas as pd\n",
    "import threading"
   ]
  },
  {
   "cell_type": "code",
   "execution_count": 2,
   "metadata": {},
   "outputs": [],
   "source": [
    "def random_color():\n",
    "    \"\"\"Generate a random RGB color.\"\"\"\n",
    "    return [random.random(), random.random(), random.random()]\n",
    "\n",
    "def open3d_block_by_element(ifc_file): \n",
    "    # Configuration for ifcopenshell geometric settings\n",
    "    settings = ifcopenshell.geom.settings()\n",
    "    settings.set(settings.USE_WORLD_COORDS, True)\n",
    "    settings.set(settings.APPLY_DEFAULT_MATERIALS, True)\n",
    "    \n",
    "    # Initialize the iterator for geometric representations\n",
    "    iterator = ifcopenshell.geom.iterator(settings, ifc_file, multiprocessing.cpu_count())\n",
    "    \n",
    "    # Define entity types to include and exclude\n",
    "    exclude_list = set([\"IfcCovering\", \"IfcFurnishingElement\", \"IfcSpace\", \"IfcOpening\", \"IfcOpeningElement\", \"IfcRailing\"])\n",
    "    \n",
    "    # Lists to store the resulting meshes and element information\n",
    "    all_meshes = []\n",
    "    element_information = {}\n",
    "    \n",
    "    # Variable to track the smallest dimension among all meshes\n",
    "    temp_dimension = 5.0\n",
    "    \n",
    "    # Iterate over the geometric representations\n",
    "    if iterator.initialize():\n",
    "        index = 0\n",
    "        while True:\n",
    "            shape = iterator.get()\n",
    "            \n",
    "            # Check if the shape type is not excluded and represents an IfcBuildingElement\n",
    "            if shape.type not in exclude_list and shape.product.is_a(\"IfcBuildingElement\"):\n",
    "                # Convert the shape's geometry to an Open3D mesh\n",
    "                faces = np.array(shape.geometry.faces)\n",
    "                verts = np.array(shape.geometry.verts).reshape(-1, 3)\n",
    "                mesh = o3d.geometry.TriangleMesh(vertices=o3d.utility.Vector3dVector(verts),\n",
    "                                                 triangles=o3d.utility.Vector3iVector(faces.reshape(-1, 3)))\n",
    "                \n",
    "                # Update the smallest dimension if necessary\n",
    "                min_dimension = min(mesh.get_max_bound() - mesh.get_min_bound())\n",
    "                if min_dimension >= 0.2 and temp_dimension > min_dimension:\n",
    "                    temp_dimension = round(float(min_dimension), 2)\n",
    "                \n",
    "                # Store the mesh and its corresponding IFC GUID\n",
    "                all_meshes.append(mesh)\n",
    "                element_information[index] = shape.guid\n",
    "                index += 1\n",
    "                \n",
    "            # Move to the next geometric representation\n",
    "            if not iterator.next():\n",
    "                break\n",
    "\n",
    "    return all_meshes, element_information, temp_dimension\n",
    "\n",
    "\n",
    "def create_uniform_grid(bounds, voxel_size):\n",
    "    \"\"\"Create a uniform grid within the given bounds.\"\"\"\n",
    "    x = np.arange(bounds[0], bounds[1] + voxel_size, voxel_size)\n",
    "    y = np.arange(bounds[2], bounds[3] + voxel_size, voxel_size)\n",
    "    z = np.arange(bounds[4], bounds[5] + voxel_size, voxel_size)\n",
    "    return pv.StructuredGrid(*np.meshgrid(x, y, z))\n",
    "\n",
    "def open3d_to_pyvista(point_cloud_o3d):\n",
    "    \"\"\"\n",
    "    Convert an Open3D point cloud to a PyVista point cloud.\n",
    "\n",
    "    Parameters:\n",
    "    - point_cloud_o3d: The Open3D point cloud.\n",
    "\n",
    "    Returns:\n",
    "    - A PyVista `PolyData` object.\n",
    "    \"\"\"\n",
    "    # Extract points from Open3D point cloud\n",
    "    points = np.asarray(point_cloud_o3d.points)\n",
    "\n",
    "    # Create a PyVista PolyData object\n",
    "    point_cloud_pv = pv.PolyData(points)\n",
    "\n",
    "    return point_cloud_pv\n",
    "\n",
    "def process_point(pcd, mesh_guid_index, grid_bounds, voxel_size, dims, grid_attributes):\n",
    "    j = int((pcd[0] - grid_bounds[0]) / voxel_size)\n",
    "    i = int((pcd[1] - grid_bounds[2]) / voxel_size)\n",
    "    k = int((pcd[2] - grid_bounds[4]) / voxel_size)\n",
    "    \n",
    "    if 0 <= i < dims[0]-1 and 0 <= j < dims[1]-1 and 0 <= k < dims[2]-1 and grid_attributes[i,j,k] == -1:\n",
    "        return (i, j, k, mesh_guid_index)\n",
    "    return None\n",
    "\n",
    "def apply_point_result(result, grid_attributes):\n",
    "    if result is not None:\n",
    "        i, j, k, mesh_guid_index = result\n",
    "        grid_attributes[i,j,k] = mesh_guid_index\n",
    "\n",
    "def process_points_thread(args):\n",
    "    points, mesh_guid_index, grid_bounds, voxel_size, dims, grid_attributes = args\n",
    "    for point in points:\n",
    "        result = process_point(point, mesh_guid_index, grid_bounds, voxel_size, dims, grid_attributes)\n",
    "        if result is not None:\n",
    "            i, j, k, mesh_guid_index = result\n",
    "            grid_attributes[i, j, k] = mesh_guid_index\n",
    "\n",
    "def multithread_process_points(pcd_list, grid_bounds, voxel_size, dims, grid_attributes):\n",
    "    threads = []\n",
    "    for i, pcd in enumerate(pcd_list):\n",
    "        t = threading.Thread(target=process_points_thread, args=((pcd.points, i, grid_bounds, voxel_size, dims, grid_attributes),))\n",
    "        threads.append(t)\n",
    "        t.start()\n",
    "    \n",
    "    for t in threads:\n",
    "        t.join()\n",
    "\n",
    "def voxelize_space(bounds, pcd_list, voxel_size):\n",
    "    \"\"\"Create a 3d grid and check the intersections of the meshes with the grid.\"\"\"\n",
    "    grid = create_uniform_grid(bounds, voxel_size)\n",
    "    \n",
    "    # create an empty 3d array in the same dimensions of the grid\n",
    "    dims = grid.dimensions\n",
    "    grid_attributes = np.full((dims[0]-1, dims[1]-1, dims[2]-1), -1, dtype=int)\n",
    "\n",
    "    grid_bounds = grid.bounds\n",
    "\n",
    "    # Use the parallel_process_points function to process points in parallel\n",
    "    multithread_process_points(pcd_list, grid_bounds, voxel_size, dims, grid_attributes)\n",
    "\n",
    "    # assign empty array to the grid\n",
    "    grid.cell_data['attributes'] = grid_attributes.flatten(order='F').astype(int)\n",
    "    \n",
    "    return grid\n",
    "\n",
    "def get_sampling_points(mesh, voxel_size, points_per_unit_area=120):\n",
    "    \n",
    "    # Calculate the surface area of the mesh\n",
    "    area = mesh.get_surface_area()\n",
    "\n",
    "    # Calculate the number of points to sample\n",
    "    N = int(area * points_per_unit_area*1/voxel_size)\n",
    "        \n",
    "    return N\n",
    "\n",
    "def create_point_cloud(all_meshes, voxel_size):\n",
    "    \"\"\"Create a point cloud from a mesh.\"\"\"\n",
    "\n",
    "    pcd_list = []\n",
    "    \n",
    "    for mesh in all_meshes:\n",
    "        # Get the number of points to sample based on the mesh size\n",
    "        N = get_sampling_points(mesh, voxel_size)\n",
    "        pcd = mesh.sample_points_uniformly(N)\n",
    "        pcd_pv = open3d_to_pyvista(pcd)\n",
    "        pcd_list.append(pcd_pv)  \n",
    "    \n",
    "    return pcd_list\n",
    "\n",
    "def fetch_concrete_elements(ifc_file, grid, voxel_size,element_information):\n",
    "    elements = ifc_file.by_type(\"IfcBuildingElement\")\n",
    "    concrete_names = [\"STB\", \"concrete\", \"beton\"]\n",
    "    \n",
    "    concrete_elements = set()\n",
    "\n",
    "    for element in elements:\n",
    "        # Check ObjectType and Name attributes\n",
    "        if any(concrete_name.lower() in (element.ObjectType or \"\").lower() for concrete_name in concrete_names) or \\\n",
    "           any(concrete_name.lower() in (element.Name or \"\").lower() for concrete_name in concrete_names):\n",
    "            concrete_elements.add(element.GlobalId)\n",
    "        else:\n",
    "            # Check property sets\n",
    "            for rel in element.IsDefinedBy:\n",
    "                if rel.is_a(\"IfcRelDefinesByProperties\"):\n",
    "                    property_set = rel.RelatingPropertyDefinition\n",
    "                    if property_set.is_a(\"IfcPropertySet\"):\n",
    "                        for prop in property_set.HasProperties:\n",
    "                            if prop.is_a(\"IfcPropertySingleValue\") and \\\n",
    "                               any(concrete_name.lower() in str(prop.NominalValue.wrappedValue).lower() for concrete_name in concrete_names):\n",
    "                                concrete_elements.add(element.GlobalId)\n",
    "                                break  # Exit once a match is found in the property set\n",
    "\n",
    "    count = 0\n",
    "    for att in grid.cell_data['attributes']:\n",
    "        #print(att)\n",
    "        if element_information.get(att) in concrete_elements:\n",
    "            count += 1\n",
    "    concrete_volume = round(count * voxel_size**3, 3)\n",
    "    \n",
    "    return concrete_volume    \n",
    "\n"
   ]
  },
  {
   "cell_type": "code",
   "execution_count": 3,
   "metadata": {},
   "outputs": [],
   "source": [
    "def process_ifc_file(file_name):\n",
    "    ifc_file = ifcopenshell.open(file_name)\n",
    "    print(file_name)\n",
    "\n",
    "    ### CONVERSION FROM IFC TO MESH ###\n",
    "    print(f'Converting {file_name}...')\n",
    "    start_time = time.time()\n",
    "    all_meshes, element_information, voxel_size = open3d_block_by_element(ifc_file)\n",
    "    total_polygons = sum(len(mesh.triangles) for mesh in all_meshes)\n",
    "    # combine all meshes into one mesh and find the bounds\n",
    "    combined_mesh = reduce(lambda m1, m2: m1 + m2, all_meshes)\n",
    "    # Compute the oriented bounding box (OBB)\n",
    "    obb = combined_mesh.get_axis_aligned_bounding_box()\n",
    "    \n",
    "    # Extract the eight corner points of the OBB\n",
    "    obb_points = np.asarray(obb.get_box_points())\n",
    "\n",
    "    # Compute the axis-aligned bounding box of these eight points\n",
    "    xmin, ymin, zmin = np.min(obb_points, axis=0)\n",
    "    xmax, ymax, zmax = np.max(obb_points, axis=0)\n",
    "\n",
    "    bounds = np.array([xmin, xmax, ymin, ymax, zmin, zmax])\n",
    "\n",
    "    end_time = time.time()\n",
    "    conversion_time = end_time - start_time\n",
    "\n",
    "    ### POINT CLOUD CREATION ###\n",
    "    print(f'Point cloud is being formed for {file_name}...')\n",
    "    start_time = time.time()\n",
    "    point_cloud_list  = create_point_cloud(all_meshes, voxel_size)\n",
    "\n",
    "    #merge all the list of point clouds into one\n",
    "    pcd_pv = pv.PolyData()\n",
    "    pcd_pv.points = np.vstack(list(map(lambda x: x.points, point_cloud_list)))\n",
    "    sampling_points = len(pcd_pv.points)\n",
    "    end_time = time.time()\n",
    "    point_cloud_processing = end_time - start_time\n",
    "\n",
    "    ### RASTERIZATION ###\n",
    "    print(f'Rasterizing {file_name}...')\n",
    "    start_time = time.time()\n",
    "    grid = voxelize_space(bounds, point_cloud_list, voxel_size)\n",
    "    end_time = time.time()\n",
    "    rasterization_time = end_time - start_time\n",
    "\n",
    "    ### VISUALIZATION ###\n",
    "    print(f'Visualizing {file_name}...')\n",
    "    start_time = time.time()\n",
    "    p = pv.Plotter()  \n",
    "    # Extract the cells with non-empty attribute values\n",
    "    non_empty_cells = grid.cell_data['attributes'] != -1  \n",
    "        \n",
    "    # Add the mesh to the plotter with the non-empty cells\n",
    "    p.add_mesh(grid.extract_cells(non_empty_cells), opacity=0.5, show_edges=False,show_scalar_bar=False)\n",
    "    p.add_bounding_box(line_width=2, color=\"blue\")\n",
    "    screenshot_filename = os.path.join(\"screenshots\", os.path.basename(file_name) + \".png\")\n",
    "    p.screenshot(screenshot_filename)\n",
    "    p.show()\n",
    "    end_time = time.time()\n",
    "    visualization_time = end_time - start_time\n",
    "    print(f'Calculating concrete volume of {file_name}...')\n",
    "\n",
    "    start_time = time.time()\n",
    "    concrete_volume = fetch_concrete_elements(ifc_file, grid, voxel_size, element_information)\n",
    "    end_time = time.time()\n",
    "    concrete_calculation_time = end_time - start_time\n",
    "\n",
    "    # Store the results in a dictionary\n",
    "    results = {}\n",
    "    results['File'] = file_name\n",
    "    results['Conversion Time'] = conversion_time\n",
    "    results['Total Polygons'] = total_polygons\n",
    "    results['Voxel Size'] = voxel_size\n",
    "    results['Total Points'] = sampling_points\n",
    "    results['Point Cloud Creation Time'] = point_cloud_processing\n",
    "    results['Rasterization Time'] = rasterization_time\n",
    "    results['Visualization Time'] = visualization_time\n",
    "    results['Concrete Volume'] = concrete_volume\n",
    "    results['Concrete Calculation Time'] = concrete_calculation_time\n",
    "\n",
    "    print(results)\n",
    "    return results"
   ]
  },
  {
   "cell_type": "code",
   "execution_count": 4,
   "metadata": {},
   "outputs": [],
   "source": [
    "#process_ifc_file(\"IFC Files/04.ifc\")"
   ]
  },
  {
   "cell_type": "code",
   "execution_count": 5,
   "metadata": {},
   "outputs": [
    {
     "name": "stdout",
     "output_type": "stream",
     "text": [
      "IFC Files\\01_Test.ifc\n",
      "Converting IFC Files\\01_Test.ifc...\n",
      "Point cloud is being formed for IFC Files\\01_Test.ifc...\n",
      "Rasterizing IFC Files\\01_Test.ifc...\n",
      "Visualizing IFC Files\\01_Test.ifc...\n"
     ]
    },
    {
     "data": {
      "application/vnd.jupyter.widget-view+json": {
       "model_id": "8266cafbccdd4914b04a845ef7cad1e3",
       "version_major": 2,
       "version_minor": 0
      },
      "text/plain": [
       "Widget(value=\"<iframe src='http://localhost:50577/index.html?ui=P_0x13883808970_0&reconnect=auto' style='width…"
      ]
     },
     "metadata": {},
     "output_type": "display_data"
    },
    {
     "name": "stdout",
     "output_type": "stream",
     "text": [
      "Calculating concrete volume of IFC Files\\01_Test.ifc...\n",
      "{'File': 'IFC Files\\\\01_Test.ifc', 'Conversion Time': 0.09023261070251465, 'Total Polygons': 1056, 'Voxel Size': 0.2, 'Total Points': 71470, 'Point Cloud Creation Time': 0.016180992126464844, 'Rasterization Time': 0.4869234561920166, 'Visualization Time': 1.9901635646820068, 'Concrete Volume': 9.592, 'Concrete Calculation Time': 0.005448579788208008}\n",
      "IFC Files\\02_Duplex.ifc\n",
      "Converting IFC Files\\02_Duplex.ifc...\n",
      "Point cloud is being formed for IFC Files\\02_Duplex.ifc...\n",
      "Rasterizing IFC Files\\02_Duplex.ifc...\n",
      "Visualizing IFC Files\\02_Duplex.ifc...\n"
     ]
    },
    {
     "data": {
      "application/vnd.jupyter.widget-view+json": {
       "model_id": "0c3f9aa2b62848f4ad15ea8fd97fea2f",
       "version_major": 2,
       "version_minor": 0
      },
      "text/plain": [
       "Widget(value=\"<iframe src='http://localhost:50577/index.html?ui=P_0x1389137c130_1&reconnect=auto' style='width…"
      ]
     },
     "metadata": {},
     "output_type": "display_data"
    },
    {
     "name": "stdout",
     "output_type": "stream",
     "text": [
      "Calculating concrete volume of IFC Files\\02_Duplex.ifc...\n",
      "{'File': 'IFC Files\\\\02_Duplex.ifc', 'Conversion Time': 2.8130080699920654, 'Total Polygons': 9420, 'Voxel Size': 0.2, 'Total Points': 2158977, 'Point Cloud Creation Time': 0.3498399257659912, 'Rasterization Time': 13.490779399871826, 'Visualization Time': 0.4833974838256836, 'Concrete Volume': 55.6, 'Concrete Calculation Time': 0.4761621952056885}\n",
      "IFC Files\\03_Clinic.ifc\n",
      "Converting IFC Files\\03_Clinic.ifc...\n",
      "Point cloud is being formed for IFC Files\\03_Clinic.ifc...\n",
      "Rasterizing IFC Files\\03_Clinic.ifc...\n",
      "Visualizing IFC Files\\03_Clinic.ifc...\n"
     ]
    },
    {
     "data": {
      "application/vnd.jupyter.widget-view+json": {
       "model_id": "c4e06ed03eb24107ae04b1321c48c2b3",
       "version_major": 2,
       "version_minor": 0
      },
      "text/plain": [
       "Widget(value=\"<iframe src='http://localhost:50577/index.html?ui=P_0x138b3798070_2&reconnect=auto' style='width…"
      ]
     },
     "metadata": {},
     "output_type": "display_data"
    },
    {
     "name": "stdout",
     "output_type": "stream",
     "text": [
      "Calculating concrete volume of IFC Files\\03_Clinic.ifc...\n",
      "{'File': 'IFC Files\\\\03_Clinic.ifc', 'Conversion Time': 21.268558740615845, 'Total Polygons': 63182, 'Voxel Size': 0.27, 'Total Points': 12774131, 'Point Cloud Creation Time': 2.5482370853424072, 'Rasterization Time': 80.99862718582153, 'Visualization Time': 1.2913951873779297, 'Concrete Volume': 17.183, 'Concrete Calculation Time': 7.327913045883179}\n",
      "IFC Files\\04.ifc\n",
      "Converting IFC Files\\04.ifc...\n",
      "Point cloud is being formed for IFC Files\\04.ifc...\n",
      "Rasterizing IFC Files\\04.ifc...\n",
      "Visualizing IFC Files\\04.ifc...\n"
     ]
    },
    {
     "data": {
      "application/vnd.jupyter.widget-view+json": {
       "model_id": "3cab5a04ddac41c29bf41e607bb78300",
       "version_major": 2,
       "version_minor": 0
      },
      "text/plain": [
       "Widget(value=\"<iframe src='http://localhost:50577/index.html?ui=P_0x138913972b0_3&reconnect=auto' style='width…"
      ]
     },
     "metadata": {},
     "output_type": "display_data"
    },
    {
     "name": "stdout",
     "output_type": "stream",
     "text": [
      "Calculating concrete volume of IFC Files\\04.ifc...\n",
      "{'File': 'IFC Files\\\\04.ifc', 'Conversion Time': 2.183194398880005, 'Total Polygons': 16440, 'Voxel Size': 0.25, 'Total Points': 21111368, 'Point Cloud Creation Time': 3.365001678466797, 'Rasterization Time': 125.56527256965637, 'Visualization Time': 2.6058993339538574, 'Concrete Volume': 7716.156, 'Concrete Calculation Time': 1.5559840202331543}\n",
      "IFC Files\\05.ifc\n",
      "Converting IFC Files\\05.ifc...\n",
      "Point cloud is being formed for IFC Files\\05.ifc...\n",
      "Rasterizing IFC Files\\05.ifc...\n",
      "Visualizing IFC Files\\05.ifc...\n"
     ]
    },
    {
     "data": {
      "application/vnd.jupyter.widget-view+json": {
       "model_id": "d1be08486fc7471a881fce247e531d30",
       "version_major": 2,
       "version_minor": 0
      },
      "text/plain": [
       "Widget(value=\"<iframe src='http://localhost:50577/index.html?ui=P_0x138a82da770_4&reconnect=auto' style='width…"
      ]
     },
     "metadata": {},
     "output_type": "display_data"
    },
    {
     "name": "stdout",
     "output_type": "stream",
     "text": [
      "Calculating concrete volume of IFC Files\\05.ifc...\n",
      "{'File': 'IFC Files\\\\05.ifc', 'Conversion Time': 3.9632163047790527, 'Total Polygons': 39244, 'Voxel Size': 0.2, 'Total Points': 32082430, 'Point Cloud Creation Time': 5.397493839263916, 'Rasterization Time': 209.91610264778137, 'Visualization Time': 5.045258045196533, 'Concrete Volume': 9905.848, 'Concrete Calculation Time': 2.3943870067596436}\n",
      "IFC Files\\06.ifc\n",
      "Converting IFC Files\\06.ifc...\n",
      "Point cloud is being formed for IFC Files\\06.ifc...\n",
      "Rasterizing IFC Files\\06.ifc...\n"
     ]
    }
   ],
   "source": [
    "def find_ifc_files(directory):\n",
    "    \"\"\"Find all IFC files in a given directory.\"\"\"\n",
    "    # Use os.path.join to ensure the path is constructed correctly for any OS\n",
    "    search_path = os.path.join(directory, \"*.ifc\")\n",
    "    return glob.glob(search_path)\n",
    "\n",
    "directory_path = \"IFC Files/\"\n",
    "\n",
    "ifc_files = find_ifc_files(directory_path)\n",
    "\n",
    "# Process each IFC file and store the results in a list\n",
    "all_results = [process_ifc_file(file_name) for file_name in ifc_files]\n"
   ]
  },
  {
   "cell_type": "code",
   "execution_count": null,
   "metadata": {},
   "outputs": [],
   "source": [
    "# Convert the list of results to a DataFrame\n",
    "df = pd.DataFrame(all_results)\n",
    "\n",
    "# Write the DataFrame to an Excel file\n",
    "df.to_excel(\"performance_results_parallel.xlsx\", index=False)"
   ]
  }
 ],
 "metadata": {
  "kernelspec": {
   "display_name": ".venv",
   "language": "python",
   "name": "python3"
  },
  "language_info": {
   "codemirror_mode": {
    "name": "ipython",
    "version": 3
   },
   "file_extension": ".py",
   "mimetype": "text/x-python",
   "name": "python",
   "nbconvert_exporter": "python",
   "pygments_lexer": "ipython3",
   "version": "3.10.7"
  },
  "orig_nbformat": 4
 },
 "nbformat": 4,
 "nbformat_minor": 2
}
