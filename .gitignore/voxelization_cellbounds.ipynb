{
 "cells": [
  {
   "cell_type": "markdown",
   "metadata": {},
   "source": [
    "# IFC Rasterization for Efficient Spatial Analysis"
   ]
  },
  {
   "cell_type": "markdown",
   "metadata": {},
   "source": [
    "## Intro"
   ]
  },
  {
   "cell_type": "markdown",
   "metadata": {},
   "source": [
    "### Import libraries and the IFC model:"
   ]
  },
  {
   "cell_type": "code",
   "execution_count": 6,
   "metadata": {},
   "outputs": [],
   "source": [
    "import pyvista as pv\n",
    "import numpy as np\n",
    "from typing import Any, Tuple\n",
    "import ifcopenshell\n",
    "import logging\n",
    "from importlib import reload \n",
    "import multiprocessing\n",
    "import ifcopenshell\n",
    "import ifcopenshell.geom\n",
    "import time\n",
    "import vtk\n",
    "ifc_file = ifcopenshell.open(r\"IFC Files\\Project1.ifc\")\n",
    "#ifc_file = ifcopenshell.open(r\"IFC Files\\Duplex.ifc\")"
   ]
  },
  {
   "cell_type": "markdown",
   "metadata": {},
   "source": [
    "### Logging setup:"
   ]
  },
  {
   "cell_type": "code",
   "execution_count": 7,
   "metadata": {},
   "outputs": [],
   "source": [
    "#set up logging\n",
    "reload(logging)\n",
    "logging.basicConfig(format='%(asctime)s %(levelname)s:%(message)s', level=logging.INFO, filename=\"test.log\",  datefmt='%I:%M:%S')\n",
    "\n",
    "# Configure logging to write to a file\n",
    "# logging.basicConfig(filename='./app.log',  level=logging.INFO)\n",
    "logname=\"./vista.log\"\n",
    "logging.basicConfig(filename=logname,\n",
    "                    filemode='a',\n",
    "                    format='%(asctime)s,%(msecs)d %(name)s %(levelname)s %(message)s',\n",
    "                    datefmt='%H:%M:%S',\n",
    "                    level=logging.INFO)\n",
    "\n",
    "logging.info(\"Running IFC Voxelizer\")\n",
    "\n",
    "logger = logging.getLogger('IFCVoxelizer')\n",
    "logger.debug(\"hello\")"
   ]
  },
  {
   "cell_type": "markdown",
   "metadata": {},
   "source": [
    "## Functions"
   ]
  },
  {
   "cell_type": "code",
   "execution_count": 8,
   "metadata": {},
   "outputs": [],
   "source": [
    "def to_vtk_faces(faces : Tuple[tuple]) -> np.ndarray:\n",
    "    faces=np.array(faces, dtype=np.int16)\n",
    "    num_insertions = (len(faces) - 1) // 3\n",
    "    # Generate an array of indices for insertions\n",
    "    indices = np.arange(3, 3 * (num_insertions + 1), 3)\n",
    "    indices = np.insert(indices, 0, 0)\n",
    "    faces = np.insert(faces, indices, 3)\n",
    "    return faces\n",
    "\n",
    "def vtk_block_by_building_element(ifc_file):\n",
    "    building_elements = ifc_file.by_type(\"IfcBuildingElement\")\n",
    "    settings = ifcopenshell.geom.settings()\n",
    "    settings.set(settings.USE_WORLD_COORDS, True)\n",
    "    settings.set(settings.APPLY_DEFAULT_MATERIALS, True)\n",
    "    iterator = ifcopenshell.geom.iterator(settings, ifc_file, multiprocessing.cpu_count())\n",
    "    multiblock = pv.MultiBlock()\n",
    "    element_information = {} # Dictionary to hold element information\n",
    "    exclude_list = [\"IfcSpace\", \"IfcOpeningElement\"]\n",
    "\n",
    "    if iterator.initialize():\n",
    "        while True:\n",
    "            shape = iterator.get()\n",
    "            if shape.type not in exclude_list:\n",
    "                element = ifc_file.by_guid(shape.guid)\n",
    "                           \n",
    "                faces = shape.geometry.faces\n",
    "                verts = shape.geometry.verts\n",
    "                poly_data = pv.PolyData(list(verts), to_vtk_faces(faces))\n",
    "                multiblock.append(poly_data)\n",
    "                  \n",
    "                if element in building_elements:\n",
    "                #print(element.all_attributes()) --> why doesn't it work?\n",
    "                        \n",
    "                    element_information[shape.guid] = {\n",
    "                    \"Geo\": poly_data, \n",
    "                    \"Type\": shape.type,\n",
    "                    \"Name\": element.Name,\n",
    "                    \"Description\": element.Description\n",
    "                    }\n",
    "                               \n",
    "            if not iterator.next():\n",
    "                break\n",
    "                \n",
    "    return multiblock, element_information\n",
    "\n",
    "def create_uniform_grid(bounds, voxel_size):\n",
    "    \"\"\"Create a uniform grid within the given bounds.\"\"\"\n",
    "    x = np.arange(bounds[0], bounds[1] + voxel_size, voxel_size)\n",
    "    y = np.arange(bounds[2], bounds[3] + voxel_size, voxel_size)\n",
    "    z = np.arange(bounds[4], bounds[5] + voxel_size, voxel_size)\n",
    "    return pv.StructuredGrid(*np.meshgrid(x, y, z))\n",
    "\n",
    "def boxes_touch(A, B):\n",
    "    \"\"\"\n",
    "    Check if two 3D bounding boxes touch or overlap.\n",
    "    \n",
    "    Parameters:\n",
    "    - A, B: Tuples representing the bounds of boxes A and B.\n",
    "      Each tuple should be in the format (xmin, xmax, ymin, ymax, zmin, zmax).\n",
    "    \n",
    "    Returns:\n",
    "    - True if the boxes touch or overlap, otherwise False.\n",
    "    \"\"\"\n",
    "    \n",
    "    # Check for overlap in the x, y, and z dimensions\n",
    "    overlap_x = A[0] <= B[1] and A[1] >= B[0]\n",
    "    overlap_y = A[2] <= B[3] and A[3] >= B[2]\n",
    "    overlap_z = A[4] <= B[5] and A[5] >= B[4]\n",
    "    \n",
    "    # Return True if all dimensions overlap, otherwise False\n",
    "    return overlap_x and overlap_y and overlap_z\n"
   ]
  },
  {
   "cell_type": "code",
   "execution_count": 9,
   "metadata": {},
   "outputs": [],
   "source": [
    "def voxelize_space(meshes, voxel_size, mesh_info):\n",
    "    \"\"\"Voxelize space and check intersections with given mesh.\"\"\"\n",
    "    grid = create_uniform_grid(meshes.bounds, voxel_size)\n",
    "\n",
    "    num_points = grid.cell_centers().n_points\n",
    "\n",
    "    mask = np.zeros(num_points, dtype=bool)\n",
    "\n",
    "    cell_to_guid = {}\n",
    "\n",
    "    print(f'Total number of voxels: {num_points}')\n",
    "\n",
    "\n",
    "    for i in range(num_points):\n",
    "        for guid, mesh_data in mesh_info.items():\n",
    "\n",
    "            mesh = mesh_data['Geo']\n",
    "\n",
    "            mesh_bounds = mesh.bounds\n",
    "\n",
    "            cell = grid.extract_cells(i)\n",
    "            cell_bounds = cell.bounds         \n",
    "            if not mask[i]:\n",
    "                if boxes_touch(mesh_bounds, cell_bounds):\n",
    "                    mask[i] = True\n",
    "                    cell_to_guid[i] = guid          \n",
    "                            \n",
    "    return grid, mask, cell_to_guid"
   ]
  },
  {
   "cell_type": "markdown",
   "metadata": {},
   "source": [
    "## Voxelization"
   ]
  },
  {
   "cell_type": "code",
   "execution_count": 10,
   "metadata": {},
   "outputs": [
    {
     "name": "stdout",
     "output_type": "stream",
     "text": [
      "1694602989.4586504\n",
      "1694602989.661574\n",
      "Total number of voxels: 800\n",
      "Time taken to voxelize: 3.5139 seconds\n"
     ]
    },
    {
     "data": {
      "application/vnd.jupyter.widget-view+json": {
       "model_id": "07e64b1e56cb436086fda0dc375ee286",
       "version_major": 2,
       "version_minor": 0
      },
      "text/plain": [
       "Widget(value=\"<iframe src='http://localhost:53716/index.html?ui=P_0x24fd69f33a0_1&reconnect=auto' style='width…"
      ]
     },
     "metadata": {},
     "output_type": "display_data"
    }
   ],
   "source": [
    "p = pv.Plotter()\n",
    "print(time.time())\n",
    "\n",
    "all_meshes, info = vtk_block_by_building_element(ifc_file)\n",
    "\n",
    "print(time.time())\n",
    "\n",
    "\n",
    "start_time = time.time()\n",
    "\n",
    "voxel_size = 0.5\n",
    "\n",
    "# Voxelize the entire space of the combined mesh\n",
    "grid, mask2, cell_info = voxelize_space(all_meshes, voxel_size, info)\n",
    "\n",
    "end_time = time.time()\n",
    "\n",
    "'''# Prepare to store cell-IFC-object mappings\n",
    "cell_data = {}\n",
    "\n",
    "for cell_id, guid in cell_info.items():\n",
    "    cell_data[cell_id] = info[guid]\n",
    "'''\n",
    "\n",
    "elapsed_time = end_time - start_time\n",
    "\n",
    "print(f\"Time taken to voxelize: {elapsed_time:.4f} seconds\")\n",
    "\n",
    "# Visualization\n",
    "p.add_mesh(grid, opacity=0.3, show_edges=True)\n",
    "\n",
    "p.add_mesh(grid.extract_cells(np.where(mask2)[0]), color=\"red\", opacity=0.5)\n",
    "\n",
    "p.show()"
   ]
  },
  {
   "cell_type": "markdown",
   "metadata": {},
   "source": []
  }
 ],
 "metadata": {
  "kernelspec": {
   "display_name": "open3d",
   "language": "python",
   "name": "python3"
  },
  "language_info": {
   "codemirror_mode": {
    "name": "ipython",
    "version": 3
   },
   "file_extension": ".py",
   "mimetype": "text/x-python",
   "name": "python",
   "nbconvert_exporter": "python",
   "pygments_lexer": "ipython3",
   "version": "3.10.11"
  },
  "orig_nbformat": 4
 },
 "nbformat": 4,
 "nbformat_minor": 2
}
