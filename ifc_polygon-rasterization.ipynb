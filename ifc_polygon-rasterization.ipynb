{
 "cells": [
  {
   "cell_type": "code",
   "execution_count": 1,
   "metadata": {},
   "outputs": [
    {
     "name": "stdout",
     "output_type": "stream",
     "text": [
      "Jupyter environment detected. Enabling Open3D WebVisualizer.\n",
      "[Open3D INFO] WebRTC GUI backend enabled.\n",
      "[Open3D INFO] WebRTCWindowSystem: HTTP handshake server disabled.\n"
     ]
    }
   ],
   "source": [
    "import pyvista as pv\n",
    "import numpy as np\n",
    "from typing import Any, Tuple\n",
    "from importlib import reload\n",
    "import multiprocessing\n",
    "import ifcopenshell\n",
    "import ifcopenshell.geom\n",
    "import time\n",
    "from functools import reduce\n",
    "import open3d as o3d\n"
   ]
  },
  {
   "cell_type": "code",
   "execution_count": 2,
   "metadata": {},
   "outputs": [],
   "source": [
    "#ifc_file = ifcopenshell.open(r\"IFC Files\\Project1.ifc\")\n",
    "#ifc_file = ifcopenshell.open(r\"IFC Files\\Duplex.ifc\")\n",
    "ifc_file = ifcopenshell.open(r\"IFC Files\\Clinic.ifc\")\n",
    "\n",
    "\n",
    "def open3d_block_by_element(ifc_file): \n",
    "    start_time = time.time()\n",
    "    settings = ifcopenshell.geom.settings()\n",
    "    settings.set(settings.USE_WORLD_COORDS, True)\n",
    "    settings.set(settings.APPLY_DEFAULT_MATERIALS, True)\n",
    "    iterator = ifcopenshell.geom.iterator(settings, ifc_file, multiprocessing.cpu_count())\n",
    "    include_list = [\"IfcWall\", \"IfcSlab\", \"IfcBeam\", \"IfcColumn\", \"IfcWallStandardCase\", \"IfcFoundation\", \"IfcRoof\"]\n",
    "    all_meshes = []\n",
    "    element_information = {}\n",
    "    ind = 0\n",
    "    temp_dimension = 5.0\n",
    "    if iterator.initialize():\n",
    "        while True:\n",
    "            shape = iterator.get()\n",
    "            if shape.type in include_list:\n",
    "                \n",
    "                product = ifc_file.by_guid(shape.guid)\n",
    "\n",
    "                faces = np.array(shape.geometry.faces)             \n",
    "                verts = np.array(shape.geometry.verts).reshape(-1, 3)\n",
    "                mesh = o3d.geometry.TriangleMesh()\n",
    "                mesh.vertices = o3d.utility.Vector3dVector(verts)\n",
    "                mesh.triangles = o3d.utility.Vector3iVector(faces.reshape(-1, 3))\n",
    "\n",
    "                #find the smallest dimension of the mesh\n",
    "                min_dimension = min(mesh.get_max_bound() - mesh.get_min_bound())\n",
    "                if min_dimension > 0.1:\n",
    "                    if temp_dimension > min_dimension:\n",
    "                        temp_dimension = round(float(min_dimension),3)\n",
    "                \n",
    "                all_meshes.append(mesh)\n",
    "         \n",
    "                #attributes = product.get_info()\n",
    "                element_information[ind] = shape.guid\n",
    "                ind += 1\n",
    "                        \n",
    "            if not iterator.next():\n",
    "                break\n",
    "    print(f'Voxel size: {temp_dimension}')\n",
    "    end_time = time.time()\n",
    "    print(f\"Time taken to convert objects: {end_time - start_time:.4f} seconds\")\n",
    "\n",
    "    return all_meshes, element_information, temp_dimension\n",
    "\n",
    "def create_uniform_grid(bounds, voxel_size):\n",
    "    \"\"\"Create a uniform grid within the given bounds.\"\"\"\n",
    "    x = np.arange(bounds[0], bounds[1] + voxel_size, voxel_size)\n",
    "    y = np.arange(bounds[2], bounds[3] + voxel_size, voxel_size)\n",
    "    z = np.arange(bounds[4], bounds[5] + voxel_size, voxel_size)\n",
    "    return pv.StructuredGrid(*np.meshgrid(x, y, z))\n",
    "\n",
    "def open3d_to_pyvista(point_cloud_o3d):\n",
    "    \"\"\"\n",
    "    Convert an Open3D point cloud to a PyVista point cloud.\n",
    "\n",
    "    Parameters:\n",
    "    - point_cloud_o3d: The Open3D point cloud.\n",
    "\n",
    "    Returns:\n",
    "    - A PyVista `PolyData` object.\n",
    "    \"\"\"\n",
    "    # Extract points from Open3D point cloud\n",
    "    points = np.asarray(point_cloud_o3d.points)\n",
    "\n",
    "    # Create a PyVista PolyData object\n",
    "    point_cloud_pv = pv.PolyData(points)\n",
    "\n",
    "    return point_cloud_pv\n",
    "\n",
    "def voxelize_space(bounds, element_information, pcd_list, voxel_size):\n",
    "    \"\"\"Create a 3d grid and check the intersections of the meshes with the grid.\"\"\"\n",
    "    start_time = time.time()\n",
    "    grid = create_uniform_grid(bounds, voxel_size)\n",
    "    empty_grid = create_uniform_grid(bounds, voxel_size)\n",
    "    \n",
    "    # create an empty 3d array in the same dimensions of the grid\n",
    "    dims = grid.dimensions\n",
    "    grid_values = np.zeros((dims[0]-1, dims[1]-1, dims[2]-1))\n",
    "    grid_attributes = np.empty((dims[0]-1, dims[1]-1, dims[2]-1), dtype=object)\n",
    "\n",
    "    grid_bounds = grid.bounds\n",
    "\n",
    "    for i, pcd in enumerate(pcd_list):\n",
    "        mesh_guid = element_information[i]\n",
    "        for point in pcd.points:\n",
    "            j = int ((point[0] - grid_bounds[0])/voxel_size)\n",
    "            i = int ((point[1] - grid_bounds[2])/voxel_size)\n",
    "            k = int ((point[2] - grid_bounds[4])/voxel_size)\n",
    "\n",
    "            # Set the value of the cell to 1\n",
    "            if i < dims[0]-1 and j < dims[1]-1 and k < dims[2]-1:\n",
    "                grid_values[i,j,k] = 1\n",
    "                grid_attributes[i,j,k] = mesh_guid\n",
    "\n",
    "    # assign empty array to the grid\n",
    "    grid.cell_data['values'] = grid_values.flatten(order='F').astype(bool)\n",
    "    grid.cell_data['attributes'] = grid_attributes.flatten(order='F').astype(str)\n",
    "\n",
    "    end_time = time.time()\n",
    "    print(f\"Time taken to rasterize: {end_time - start_time:.4f} seconds\")\n",
    "    return grid, empty_grid\n",
    "\n",
    "def get_sampling_points(mesh, voxel_size, points_per_unit_area=120):\n",
    "    \n",
    "    # Calculate the surface area of the mesh\n",
    "    area = mesh.get_surface_area()\n",
    "\n",
    "    # Calculate the number of points to sample\n",
    "    N = int(area * points_per_unit_area*1/voxel_size)\n",
    "    #print(f'N: {N} and voxel size: {voxel_size}')\n",
    "\n",
    "    return N\n",
    "\n",
    "def create_point_cloud(all_meshes, voxel_size):\n",
    "    \"\"\"Create a point cloud from a mesh.\"\"\"\n",
    "\n",
    "    pcd_list = []\n",
    "\n",
    "    for mesh in all_meshes:\n",
    "        # Get the number of points to sample based on the mesh size\n",
    "        N = get_sampling_points(mesh, voxel_size)\n",
    "        pcd = mesh.sample_points_uniformly(N)\n",
    "        pcd_pv = open3d_to_pyvista(pcd)\n",
    "        pcd_list.append(pcd_pv)\n",
    "\n",
    "    return pcd_list"
   ]
  },
  {
   "cell_type": "code",
   "execution_count": 3,
   "metadata": {},
   "outputs": [
    {
     "name": "stdout",
     "output_type": "stream",
     "text": [
      "Voxel size: 0.124\n",
      "Time taken to convert objects: 25.1840 seconds\n",
      "Total number of polygons across all meshes: 20466\n",
      "Time taken to create point cloud: 4.8814 seconds\n",
      "Time taken to rasterize: 215.4860 seconds\n"
     ]
    },
    {
     "data": {
      "application/vnd.jupyter.widget-view+json": {
       "model_id": "0dbf37d87b0340c18517cae1bcd18b65",
       "version_major": 2,
       "version_minor": 0
      },
      "text/plain": [
       "Widget(value=\"<iframe src='http://localhost:49953/index.html?ui=P_0x1e4c2600a60_0&reconnect=auto' style='width…"
      ]
     },
     "metadata": {},
     "output_type": "display_data"
    }
   ],
   "source": [
    "### CONVERSION FROM IFC TO MESH ###\n",
    "all_meshes, element_information, voxel_size = open3d_block_by_element(ifc_file)\n",
    "total_polygons = sum(len(mesh.triangles) for mesh in all_meshes)\n",
    "print(f\"Total number of polygons across all meshes: {total_polygons}\")\n",
    "\n",
    "# combine all meshes into one mesh and find the bounds\n",
    "combined_mesh = reduce(lambda m1, m2: m1 + m2, all_meshes)\n",
    "bbox = combined_mesh.get_axis_aligned_bounding_box()\n",
    "xmin, ymin, zmin = bbox.get_min_bound()\n",
    "xmax, ymax, zmax = bbox.get_max_bound()\n",
    "bounds = np.array([xmin, xmax, ymin, ymax, zmin, zmax])\n",
    "\n",
    "#voxel_size = 0.15\n",
    "\n",
    "### POINT CLOUD CREATION ###\n",
    "start_time = time.time()\n",
    "point_cloud_list = create_point_cloud(all_meshes, voxel_size)\n",
    "\n",
    "#merge all the list of point clouds into one\n",
    "pcd_pv = pv.PolyData()\n",
    "pcd_pv.points = np.vstack(list(map(lambda x: x.points, point_cloud_list)))\n",
    "    \n",
    "end_time = time.time()\n",
    "print(f\"Time taken to create point cloud: {end_time - start_time:.4f} seconds\")\n",
    "\n",
    "### RASTERIZATION ###\n",
    "grid, empty_grid = voxelize_space(bounds, element_information, point_cloud_list, voxel_size)\n",
    "\n"
   ]
  },
  {
   "cell_type": "code",
   "execution_count": 5,
   "metadata": {},
   "outputs": [
    {
     "data": {
      "application/vnd.jupyter.widget-view+json": {
       "model_id": "71aac0019d584866a0bf314b5d195800",
       "version_major": 2,
       "version_minor": 0
      },
      "text/plain": [
       "Widget(value=\"<iframe src='http://localhost:49953/index.html?ui=P_0x1e518fd13c0_1&reconnect=auto' style='width…"
      ]
     },
     "metadata": {},
     "output_type": "display_data"
    }
   ],
   "source": [
    "### VISUALIZATION ###\n",
    "start_time = time.time()\n",
    "p = pv.Plotter()\n",
    "p.add_mesh(pcd_pv, color=\"blue\", point_size=20.0, render_points_as_spheres=True)\n",
    "p.add_mesh(empty_grid, opacity=0.3,show_edges=False)\n",
    "p.add_mesh(grid.extract_cells(grid.cell_data['values']), color=\"red\", opacity=0.6,show_edges=False)\n",
    "p.show()\n",
    "end_time = time.time()\n",
    "print(f\"Time taken to visualize: {end_time - start_time:.4f} seconds\")"
   ]
  },
  {
   "cell_type": "code",
   "execution_count": 4,
   "metadata": {},
   "outputs": [
    {
     "name": "stdout",
     "output_type": "stream",
     "text": [
      "Total concrete volume is 2.341 m3\n"
     ]
    }
   ],
   "source": [
    "### FETCHING CONCRETE ELEMENTS ###\n",
    "def fetch_concrete_elements(ifc_file):\n",
    "    concrete_elements = []\n",
    "    elements = ifc_file.by_type(\"IfcBuildingElement\")\n",
    "    for element in elements:\n",
    "        if \"concrete\" in element.ObjectType.lower():\n",
    "            concrete_elements.append(element.GlobalId)\n",
    "    return concrete_elements\n",
    "\n",
    "concrete_elements = fetch_concrete_elements(ifc_file)\n",
    "total_count = 0\n",
    "\n",
    "for element in concrete_elements:\n",
    "     \n",
    "    matching_cells = np.where(grid.cell_data['attributes'] == element)[0]\n",
    "    \n",
    "    # Count the number of matching cells\n",
    "    total_count += len(matching_cells)\n",
    "    \n",
    "concrete_volume = round(total_count*voxel_size*voxel_size*voxel_size,3)\n",
    "print(f'Total concrete volume is {concrete_volume} m3')"
   ]
  },
  {
   "cell_type": "code",
   "execution_count": null,
   "metadata": {},
   "outputs": [],
   "source": []
  }
 ],
 "metadata": {
  "kernelspec": {
   "display_name": ".venv",
   "language": "python",
   "name": "python3"
  },
  "language_info": {
   "codemirror_mode": {
    "name": "ipython",
    "version": 3
   },
   "file_extension": ".py",
   "mimetype": "text/x-python",
   "name": "python",
   "nbconvert_exporter": "python",
   "pygments_lexer": "ipython3",
   "version": "3.10.11"
  },
  "orig_nbformat": 4
 },
 "nbformat": 4,
 "nbformat_minor": 2
}
