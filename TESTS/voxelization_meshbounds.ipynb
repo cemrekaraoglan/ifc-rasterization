{
 "cells": [
  {
   "cell_type": "markdown",
   "metadata": {},
   "source": [
    "# IFC Rasterization for Efficient Spatial Analysis"
   ]
  },
  {
   "cell_type": "markdown",
   "metadata": {},
   "source": [
    "## Intro"
   ]
  },
  {
   "cell_type": "markdown",
   "metadata": {},
   "source": [
    "### Import libraries and the IFC model:"
   ]
  },
  {
   "cell_type": "code",
   "execution_count": 1,
   "metadata": {},
   "outputs": [],
   "source": [
    "import pyvista as pv\n",
    "import numpy as np\n",
    "from typing import Any, Tuple\n",
    "import ifcopenshell\n",
    "from importlib import reload \n",
    "import multiprocessing\n",
    "import ifcopenshell\n",
    "import ifcopenshell.geom\n",
    "import time\n",
    "import vtk\n",
    "ifc_file = ifcopenshell.open(r\"IFC Files\\Project1.ifc\")\n",
    "#ifc_file = ifcopenshell.open(r\"IFC Files\\Duplex.ifc\")"
   ]
  },
  {
   "cell_type": "markdown",
   "metadata": {},
   "source": [
    "## Functions"
   ]
  },
  {
   "cell_type": "code",
   "execution_count": 2,
   "metadata": {},
   "outputs": [],
   "source": [
    "def to_vtk_faces(faces : Tuple[tuple]) -> np.ndarray:\n",
    "    faces=np.array(faces, dtype=np.int16)\n",
    "    num_insertions = (len(faces) - 1) // 3\n",
    "    # Generate an array of indices for insertions\n",
    "    indices = np.arange(3, 3 * (num_insertions + 1), 3)\n",
    "    indices = np.insert(indices, 0, 0)\n",
    "    faces = np.insert(faces, indices, 3)\n",
    "    return faces\n",
    "\n",
    "def vtk_block_by_building_element(ifc_file):\n",
    "    building_elements = ifc_file.by_type(\"IfcBuildingElement\")\n",
    "    settings = ifcopenshell.geom.settings()\n",
    "    settings.set(settings.USE_WORLD_COORDS, True)\n",
    "    settings.set(settings.APPLY_DEFAULT_MATERIALS, True)\n",
    "    iterator = ifcopenshell.geom.iterator(settings, ifc_file, multiprocessing.cpu_count())\n",
    "    multiblock = pv.MultiBlock()\n",
    "    element_information = {} # Dictionary to hold element information\n",
    "    exclude_list = [\"IfcSpace\", \"IfcOpeningElement\"]\n",
    "\n",
    "    if iterator.initialize():\n",
    "        while True:\n",
    "            shape = iterator.get()\n",
    "            if shape.type not in exclude_list:\n",
    "                element = ifc_file.by_guid(shape.guid)\n",
    "                           \n",
    "                faces = shape.geometry.faces\n",
    "                verts = shape.geometry.verts\n",
    "                poly_data = pv.PolyData(list(verts), to_vtk_faces(faces))\n",
    "                multiblock.append(poly_data)\n",
    "                  \n",
    "                if element in building_elements:\n",
    "                #print(element.all_attributes()) --> why doesn't it work?\n",
    "                        \n",
    "                    element_information[shape.guid] = {\n",
    "                    \"Geo\": poly_data, \n",
    "                    \"Type\": shape.type,\n",
    "                    \"Name\": element.Name,\n",
    "                    \"Description\": element.Description\n",
    "                    }\n",
    "                               \n",
    "            if not iterator.next():\n",
    "                break\n",
    "                \n",
    "    return multiblock, element_information\n",
    "\n",
    "def create_uniform_grid(bounds, voxel_size):\n",
    "    \"\"\"Create a uniform grid within the given bounds.\"\"\"\n",
    "    x = np.arange(bounds[0], bounds[1] + voxel_size, voxel_size)\n",
    "    y = np.arange(bounds[2], bounds[3] + voxel_size, voxel_size)\n",
    "    z = np.arange(bounds[4], bounds[5] + voxel_size, voxel_size)\n",
    "    return pv.StructuredGrid(*np.meshgrid(x, y, z))\n",
    "\n",
    "def boxes_touch(A, B):\n",
    "    \"\"\"\n",
    "    Check if two 3D bounding boxes touch or overlap.\n",
    "\n",
    "    Parameters:\n",
    "    - A, B: Tuples representing the bounds of boxes A and B.\n",
    "      Each tuple should be in the format (xmin, xmax, ymin, ymax, zmin, zmax).\n",
    "    \n",
    "    Returns:\n",
    "    - True if the boxes touch or overlap, otherwise False.\n",
    "    \"\"\"\n",
    "    \n",
    "    # Check for overlap in the x, y, and z dimensions\n",
    "    overlap_x = A[0] <= B[1] and A[1] >= B[0]\n",
    "    overlap_y = A[2] <= B[3] and A[3] >= B[2]\n",
    "    overlap_z = A[4] <= B[5] and A[5] >= B[4]\n",
    "    \n",
    "    # Return True if all dimensions overlap, otherwise False\n",
    "    return overlap_x and overlap_y and overlap_z\n",
    "\n",
    "def compute_cell_index(grid, i, j, k):\n",
    "    return i + j * (grid.dimensions[0]-1) + k *(grid.dimensions[0]-1)* (grid.dimensions[1]-1)\n",
    "\n",
    "def find_cells_in_bounds(grid, mesh_bounds, voxel_size):\n",
    "    \"\"\"\n",
    "    Find the indices of cells that are not entirely encapsulated by the mesh.\n",
    "\n",
    "    Parameters:\n",
    "    grid - The grid containing all the cells.\n",
    "    mesh_bounds - The bounds of the mesh for which we want to find the cells that fall within.\n",
    "    voxel_size - The size of each voxel along each axis.\n",
    "\n",
    "    Returns:\n",
    "    A list of indices of cells that are not entirely encapsulated by the mesh.\n",
    "    \"\"\"\n",
    "    \n",
    "    # Initialize an empty list to store the indices of cells that are not entirely encapsulated by the mesh\n",
    "    cell_indices = []\n",
    "\n",
    "    # Get the bounds of the entire grid\n",
    "    grid_bounds = grid.bounds\n",
    "\n",
    "    # Get the dimensions of the grid\n",
    "    dims = grid.dimensions\n",
    "    '''print(f'mesh bounds: {mesh_bounds}')\n",
    "    print(f'voxel size: {voxel_size}')\n",
    "    print(f'grid bounds: {grid_bounds}')\n",
    "    print(f'grid dimensions: {dims}')'''\n",
    "    \n",
    "    # Calculate the starting and finishing cell indices based on the bounds of the mesh and the grid\n",
    "    # Calculate the starting and finishing cell indices based on the bounds of the mesh and the grid\n",
    "\n",
    "    starting_cell_index = [\n",
    "        max(0, int(np.floor((mesh_bounds[0] - grid_bounds[0]) / voxel_size)) - 1),\n",
    "        max(0, int(np.floor((mesh_bounds[2] - grid_bounds[2]) / voxel_size)) - 1),\n",
    "        max(0, int(np.floor((mesh_bounds[4] - grid_bounds[4]) / voxel_size)) - 1)\n",
    "    ]\n",
    "\n",
    "    finishing_cell_index = [\n",
    "        min(dims[0] - 2, int(np.ceil((mesh_bounds[1] - grid_bounds[0]) / voxel_size))),\n",
    "        min(dims[1] - 2, int(np.ceil((mesh_bounds[3] - grid_bounds[2]) / voxel_size))),\n",
    "        min(dims[2] - 2, int(np.ceil((mesh_bounds[5] - grid_bounds[4]) / voxel_size)))\n",
    "    ]\n",
    "    #print(f'starting_cell_index: {starting_cell_index}')\n",
    "    \n",
    "    #print(f'finishing_cell_index: {finishing_cell_index}')\n",
    "    \n",
    "    # Iterate through all cells in the grid from the starting to the finishing cell index\n",
    "    # and add the indices of cells that are not entirely encapsulated by the mesh to the list\n",
    "    for i in range(starting_cell_index[0], finishing_cell_index[0] + 1):\n",
    "        for j in range(starting_cell_index[1], finishing_cell_index[1] + 1):\n",
    "            for k in range(starting_cell_index[2], finishing_cell_index[2] + 1):\n",
    "                # Calculate the cell index from the i, j, and k indices\n",
    "                #print(f'i, j, k: {i}, {j}, {k}')\n",
    "                cell_index = compute_cell_index(grid, i, j, k)  \n",
    "                #print(f'cell index: {cell_index}')\n",
    "                cell_indices.append(cell_index)\n",
    "    #print(cell_indices)\n",
    "    return cell_indices\n",
    "\n"
   ]
  },
  {
   "cell_type": "code",
   "execution_count": 3,
   "metadata": {},
   "outputs": [],
   "source": [
    "def voxelize_space(meshes, mesh_info):\n",
    "    \"\"\"Voxelize space and check intersections with given mesh.\"\"\"\n",
    "    start_time = time.time()\n",
    "    voxel_size = 0.2\n",
    "    # Step 1: Create a uniform grid within the bounds of all meshes\n",
    "    grid = create_uniform_grid(meshes.bounds, voxel_size)\n",
    "    \n",
    "    end_time = time.time()\n",
    "    print(f\"Time taken to create the initial grid: {end_time - start_time:.4f} seconds\")\n",
    "\n",
    "    num_points = grid.cell_centers().n_points\n",
    "    mask = np.zeros(num_points, dtype=bool)\n",
    "    cell_to_guid = {}\n",
    "\n",
    "    start_time = time.time()\n",
    "\n",
    "    print(f'number of cells: {num_points}')\n",
    "    \n",
    "    # Step 2: Iterate through the meshes in the scene\n",
    "    for guid, mesh_data in mesh_info.items():\n",
    "        \n",
    "        mesh = mesh_data['Geo']\n",
    "        mesh_bounds = mesh.bounds\n",
    "        \n",
    "        # Find the indices of the cells that fall into the bounds of the current mesh\n",
    "        cell_indices = find_cells_in_bounds(grid, mesh_bounds, voxel_size)\n",
    "        \n",
    "        cell_indices.sort()\n",
    "\n",
    "        # Step 3: Use the cell indices to check which cells need further proofing\n",
    "        for cell_index in cell_indices:\n",
    "            cell = grid.extract_cells([cell_index])\n",
    "            #cell_bounds = cell.bounds\n",
    "\n",
    "            #if boxes_touch(mesh_bounds, cell_bounds):\n",
    "            if not mask[cell_index]:\n",
    "                mask[cell_index] = True\n",
    "                cell_to_guid[cell_index] = guid\n",
    "\n",
    "    end_time = time.time()\n",
    "\n",
    "    print(f\"Time taken to voxelize: {end_time - start_time:.4f} seconds\")        \n",
    "                            \n",
    "    return grid, mask, cell_to_guid\n"
   ]
  },
  {
   "cell_type": "markdown",
   "metadata": {},
   "source": [
    "## Voxelization"
   ]
  },
  {
   "cell_type": "code",
   "execution_count": 4,
   "metadata": {},
   "outputs": [
    {
     "name": "stdout",
     "output_type": "stream",
     "text": [
      "Time taken to import ifc objects: -0.1088 seconds\n",
      "Time taken to create the initial grid: 0.0000 seconds\n",
      "number of cells: 10944\n",
      "Time taken to voxelize: 4.7855 seconds\n"
     ]
    },
    {
     "data": {
      "application/vnd.jupyter.widget-view+json": {
       "model_id": "afff8d7c959f4752ae649b466576369a",
       "version_major": 2,
       "version_minor": 0
      },
      "text/plain": [
       "Widget(value=\"<iframe src='http://localhost:52439/index.html?ui=P_0x238ed9609a0_0&reconnect=auto' style='width…"
      ]
     },
     "metadata": {},
     "output_type": "display_data"
    }
   ],
   "source": [
    "p = pv.Plotter()\n",
    "\n",
    "start_time = time.time()\n",
    "all_meshes, info = vtk_block_by_building_element(ifc_file)\n",
    "end_time = time.time()\n",
    "print(f\"Time taken to import ifc objects: {start_time-end_time:.4f} seconds\")\n",
    "\n",
    "# Voxelize the entire space of the combined mesh\n",
    "grid, mask, cell_info = voxelize_space(all_meshes, info)\n",
    "\n",
    "# Visualization\n",
    "p.add_mesh(grid, opacity=0.3, show_edges=True)\n",
    "\n",
    "p.add_mesh(grid.extract_cells(np.where(mask)[0]), color=\"red\", opacity=0.5)\n",
    "#p.add_point_labels(grid.cell_centers(), labels=[f\"{i}\" for i in range(grid.cell_centers().n_points)])\n",
    "\n",
    "p.show()\n"
   ]
  },
  {
   "cell_type": "markdown",
   "metadata": {},
   "source": []
  }
 ],
 "metadata": {
  "kernelspec": {
   "display_name": "open3d",
   "language": "python",
   "name": "python3"
  },
  "language_info": {
   "codemirror_mode": {
    "name": "ipython",
    "version": 3
   },
   "file_extension": ".py",
   "mimetype": "text/x-python",
   "name": "python",
   "nbconvert_exporter": "python",
   "pygments_lexer": "ipython3",
   "version": "3.10.11"
  },
  "orig_nbformat": 4
 },
 "nbformat": 4,
 "nbformat_minor": 2
}
