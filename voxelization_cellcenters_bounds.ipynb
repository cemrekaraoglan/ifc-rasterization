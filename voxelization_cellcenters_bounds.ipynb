{
 "cells": [
  {
   "cell_type": "markdown",
   "metadata": {},
   "source": [
    "# IFC Rasterization for Efficient Spatial Analysis"
   ]
  },
  {
   "cell_type": "markdown",
   "metadata": {},
   "source": [
    "## Intro"
   ]
  },
  {
   "cell_type": "markdown",
   "metadata": {},
   "source": [
    "### Import libraries and the IFC model:"
   ]
  },
  {
   "cell_type": "code",
   "execution_count": 1,
   "metadata": {},
   "outputs": [],
   "source": [
    "import pyvista as pv\n",
    "import numpy as np\n",
    "from typing import Any, Tuple\n",
    "import ifcopenshell\n",
    "from importlib import reload \n",
    "import multiprocessing\n",
    "import ifcopenshell\n",
    "import ifcopenshell.geom\n",
    "import time\n",
    "import vtk\n",
    "ifc_file = ifcopenshell.open(r\"IFC Files\\Project1.ifc\")\n",
    "#ifc_file = ifcopenshell.open(r\"IFC Files\\Clinic.ifc\")\n",
    "#ifc_file = ifcopenshell.open(r\"IFC Files\\Duplex.ifc\")"
   ]
  },
  {
   "cell_type": "markdown",
   "metadata": {},
   "source": [
    "## Functions"
   ]
  },
  {
   "cell_type": "code",
   "execution_count": 2,
   "metadata": {},
   "outputs": [],
   "source": [
    "\n",
    "\n",
    "def vtk_block_by_building_element(ifc_file):\n",
    "    building_elements = ifc_file.by_type(\"IfcBuildingElement\")\n",
    "    settings = ifcopenshell.geom.settings()\n",
    "    settings.set(settings.USE_WORLD_COORDS, True)\n",
    "    settings.set(settings.APPLY_DEFAULT_MATERIALS, True)\n",
    "    iterator = ifcopenshell.geom.iterator(settings, ifc_file, multiprocessing.cpu_count())\n",
    "    multiblock = pv.MultiBlock()\n",
    "    multiblock_openings = pv.MultiBlock()\n",
    "\n",
    "    element_information = {} # Dictionary to hold element information\n",
    "    exclude_list = [\"IfcSpace\", \"IfcOpeningElement\"]\n",
    "    \n",
    "    if iterator.initialize():\n",
    "        while True:\n",
    "            shape = iterator.get()\n",
    "            if shape.type not in exclude_list:\n",
    "                element = ifc_file.by_guid(shape.guid)\n",
    "                        \n",
    "                faces = shape.geometry.faces\n",
    "                verts = shape.geometry.verts\n",
    "                poly_data = pv.PolyData(list(verts), to_vtk_faces(faces))\n",
    "                multiblock.append(poly_data)\n",
    "                  \n",
    "                if element in building_elements:\n",
    "                #print(element.all_attributes()) --> why doesn't it work?\n",
    "                        \n",
    "                    element_information[shape.guid] = {\n",
    "                    \"Geo\": poly_data, \n",
    "                    \"Type\": shape.type,\n",
    "                    \"Name\": element.Name,\n",
    "                    \"Description\": element.Description\n",
    "                    }\n",
    "\n",
    "\n",
    "            if not iterator.next():\n",
    "                break\n",
    "                \n",
    "    return multiblock, element_information\n",
    "\n",
    "def create_uniform_grid(bounds, voxel_size):\n",
    "    \"\"\"Create a uniform grid within the given bounds.\"\"\"\n",
    "    x = np.arange(bounds[0], bounds[1] + voxel_size, voxel_size)\n",
    "    y = np.arange(bounds[2], bounds[3] + voxel_size, voxel_size)\n",
    "    z = np.arange(bounds[4], bounds[5] + voxel_size, voxel_size)\n",
    "    return pv.StructuredGrid(*np.meshgrid(x, y, z))\n",
    "\n",
    "\n",
    "def boxes_touch(A, B):\n",
    "    \"\"\"\n",
    "    Check if two 3D bounding boxes touch or overlap.\n",
    "    \n",
    "    Parameters:\n",
    "    - A, B: Tuples representing the bounds of boxes A and B.\n",
    "      Each tuple should be in the format (xmin, xmax, ymin, ymax, zmin, zmax).\n",
    "    \n",
    "    Returns:\n",
    "    - True if the boxes touch or overlap, otherwise False.\n",
    "    \"\"\"\n",
    "    \n",
    "    # Check for overlap in the x, y, and z dimensions\n",
    "    overlap_x = A[0] <= B[1] and A[1] >= B[0]\n",
    "    overlap_y = A[2] <= B[3] and A[3] >= B[2]\n",
    "    overlap_z = A[4] <= B[5] and A[5] >= B[4]\n",
    "    \n",
    "    # Return True if all dimensions overlap, otherwise False\n",
    "    return overlap_x and overlap_y and overlap_z\n",
    "\n",
    "def voxelize_space(meshes, voxel_size, mesh_info):\n",
    "\n",
    "    \"\"\"Voxelize space and check intersections with given mesh.\"\"\"\n",
    "    opening_list = [\"IfcDoor\", \"IfcWindow\"]\n",
    "\n",
    "    grid = create_uniform_grid(meshes.bounds, voxel_size)\n",
    "\n",
    "    num_points = grid.cell_centers().n_points\n",
    "\n",
    "    mask = np.zeros(num_points, dtype=bool)\n",
    "\n",
    "    cell_to_guid = {}\n",
    "\n",
    "    print(f'Total number of voxels: {num_points}')\n",
    "\n",
    "    select_enclosed = vtk.vtkSelectEnclosedPoints()\n",
    "    \n",
    "    select_enclosed.SetInputData(grid.cell_centers())\n",
    "\n",
    "    for guid, mesh_data in mesh_info.items():\n",
    "        mesh = mesh_data['Geo']\n",
    "        mesh_type = mesh_data['Type']\n",
    "        mesh_bounds = mesh.bounds\n",
    "        \n",
    "        select_enclosed.SetSurfaceData(mesh)\n",
    "\n",
    "        select_enclosed.Update()\n",
    "\n",
    "        for i in range(num_points):\n",
    "            if mesh_type in opening_list:\n",
    "                cell = grid.extract_cells(i)\n",
    "                cell_bounds = cell.bounds   \n",
    "\n",
    "                if boxes_touch(mesh_bounds, cell_bounds):\n",
    "                    mask[i] = True\n",
    "                    cell_to_guid[i] = guid\n",
    "            else:    \n",
    "                if not mask[i] and select_enclosed.IsInside(i):\n",
    "                    \n",
    "                    mask[i] = True\n",
    "                    cell_to_guid[i] = guid\n",
    "                    \n",
    "    return grid, mask, cell_to_guid"
   ]
  },
  {
   "cell_type": "markdown",
   "metadata": {},
   "source": [
    "## Voxelization"
   ]
  },
  {
   "cell_type": "code",
   "execution_count": 3,
   "metadata": {},
   "outputs": [
    {
     "name": "stdout",
     "output_type": "stream",
     "text": [
      "Total number of voxels: 10944\n",
      "Time taken to voxelize: 20.9682 seconds\n"
     ]
    },
    {
     "data": {
      "application/vnd.jupyter.widget-view+json": {
       "model_id": "c91817eaae8e496495fe0c1a847160a3",
       "version_major": 2,
       "version_minor": 0
      },
      "text/plain": [
       "Widget(value=\"<iframe src='http://localhost:50566/index.html?ui=P_0x2ba7d242b00_0&reconnect=auto' style='width…"
      ]
     },
     "metadata": {},
     "output_type": "display_data"
    }
   ],
   "source": [
    "meshes_all, info = vtk_block_by_building_element(ifc_file)\n",
    "\n",
    "p = pv.Plotter()\n",
    "\n",
    "start_time = time.time()\n",
    "\n",
    "voxel_size = 0.2\n",
    "\n",
    "# Voxelize the entire space of the combined mesh\n",
    "grid, mask, cell_info = voxelize_space(meshes_all, voxel_size, info)\n",
    "\n",
    "\n",
    "end_time = time.time()\n",
    "elapsed_time = end_time - start_time\n",
    "print(f\"Time taken to voxelize: {elapsed_time:.4f} seconds\")\n",
    "\n",
    "# Visualization\n",
    "p.add_mesh(grid, opacity=0.3, show_edges=True)\n",
    "\n",
    "p.add_mesh(grid.extract_cells(np.where(mask)[0]), color=\"red\", opacity=0.5)\n",
    "\n",
    "p.show()"
   ]
  },
  {
   "cell_type": "markdown",
   "metadata": {},
   "source": []
  }
 ],
 "metadata": {
  "kernelspec": {
   "display_name": "open3d",
   "language": "python",
   "name": "python3"
  },
  "language_info": {
   "codemirror_mode": {
    "name": "ipython",
    "version": 3
   },
   "file_extension": ".py",
   "mimetype": "text/x-python",
   "name": "python",
   "nbconvert_exporter": "python",
   "pygments_lexer": "ipython3",
   "version": "3.10.11"
  },
  "orig_nbformat": 4
 },
 "nbformat": 4,
 "nbformat_minor": 2
}
