{
 "cells": [
  {
   "cell_type": "markdown",
   "metadata": {},
   "source": [
    "# IFC Rasterization for Efficient Spatial Analysis"
   ]
  },
  {
   "cell_type": "markdown",
   "metadata": {},
   "source": [
    "## Intro"
   ]
  },
  {
   "cell_type": "code",
   "execution_count": 7,
   "metadata": {},
   "outputs": [],
   "source": [
    "import pyvista as pv\n",
    "import numpy as np\n",
    "from typing import Any, Tuple\n",
    "import ifcopenshell\n",
    "from importlib import reload \n",
    "import multiprocessing\n",
    "import ifcopenshell\n",
    "import ifcopenshell.geom\n",
    "import time\n",
    "import vtk\n",
    "\n",
    "def to_vtk_faces(faces : Tuple[tuple]) -> np.ndarray:\n",
    "\n",
    "    faces=np.array(faces, dtype=np.int16)\n",
    "    num_insertions = (len(faces) - 1) // 3\n",
    "\n",
    "    # Generate an array of indices for insertions\n",
    "    indices = np.arange(3, 3 * (num_insertions + 1), 3)\n",
    "    indices = np.insert(indices, 0, 0)\n",
    "    faces = np.insert(faces, indices, 3) \n",
    "    return faces\n",
    "\n",
    "def vtk_block_by_building_element(ifc_file):\n",
    "    settings = ifcopenshell.geom.settings()\n",
    "    settings.set(settings.USE_WORLD_COORDS, True)\n",
    "    settings.set(settings.APPLY_DEFAULT_MATERIALS, True)\n",
    "    iterator = ifcopenshell.geom.iterator(settings, ifc_file, multiprocessing.cpu_count())\n",
    "    exclude_list = [\"IfcSpace\", \"IfcOpeningElement\", \"IfcWindow\", \"IfcDoor\"]\n",
    "    \n",
    "    multiblock = pv.MultiBlock()\n",
    "\n",
    "    if iterator.initialize():\n",
    "\n",
    "        while True:\n",
    "            shape = iterator.get()\n",
    "            if shape.type not in exclude_list:\n",
    "                faces = shape.geometry.faces\n",
    "                verts = shape.geometry.verts\n",
    "                poly_data = pv.PolyData(list(verts), to_vtk_faces(faces))\n",
    "                multiblock.append(poly_data)\n",
    "\n",
    "            if not iterator.next():\n",
    "                break\n",
    "               \n",
    "    return multiblock\n",
    "\n",
    "class OctreeNode:\n",
    "    def __init__(self, bounds, level=0):\n",
    "        self.bounds = bounds\n",
    "        self.level = level\n",
    "        self.children = []\n",
    "        self.is_leaf = True\n",
    "        self.contains_mesh = False\n",
    "\n",
    "class Octree:\n",
    "    def __init__(self, bounds, max_levels):\n",
    "        self.root = OctreeNode(bounds, level=0)\n",
    "        self.max_levels = max_levels\n",
    "\n",
    "def object_fully_contained_in_node(node, mesh):\n",
    "    node_bounds = node.bounds\n",
    "    mesh_bounds = mesh.bounds\n",
    "    return all(node_bounds[i] <= mesh_bounds[i] <= node_bounds[i+1] for i in range(0, 6, 2))\n",
    "\n",
    "def object_intersects_node(node, mesh):\n",
    "    node_bounds = node.bounds\n",
    "    mesh_bounds = mesh.bounds\n",
    "    return all(node_bounds[i] <= mesh_bounds[i+1] and node_bounds[i+1] >= mesh_bounds[i] for i in range(0, 6, 2))\n",
    "\n",
    "def subdivide_node(node):\n",
    "    bounds = node.bounds\n",
    "    level = node.level\n",
    "    x_mid = (bounds[0] + bounds[1]) / 2\n",
    "    y_mid = (bounds[2] + bounds[3]) / 2\n",
    "    z_mid = (bounds[4] + bounds[5]) / 2\n",
    "\n",
    "    new_bounds = [\n",
    "        [bounds[0], x_mid, bounds[2], y_mid, bounds[4], z_mid],\n",
    "        [x_mid, bounds[1], bounds[2], y_mid, bounds[4], z_mid],\n",
    "        [bounds[0], x_mid, y_mid, bounds[3], bounds[4], z_mid],\n",
    "        [x_mid, bounds[1], y_mid, bounds[3], bounds[4], z_mid],\n",
    "        [bounds[0], x_mid, bounds[2], y_mid, z_mid, bounds[5]],\n",
    "        [x_mid, bounds[1], bounds[2], y_mid, z_mid, bounds[5]],\n",
    "        [bounds[0], x_mid, y_mid, bounds[3], z_mid, bounds[5]],\n",
    "        [x_mid, bounds[1], y_mid, bounds[3], z_mid, bounds[5]],\n",
    "    ]\n",
    "\n",
    "    node.children = [OctreeNode(b, level=level+1) for b in new_bounds]\n",
    "    node.is_leaf = False\n",
    "\n",
    "def insert_mesh(node, mesh, max_levels):\n",
    "    if node.level == max_levels or object_fully_contained_in_node(node, mesh):\n",
    "        node.contains_mesh = True\n",
    "    else:\n",
    "        if node.is_leaf:\n",
    "            subdivide_node(node)\n",
    "        for child in node.children:\n",
    "            if object_intersects_node(child, mesh):\n",
    "                insert_mesh(child, mesh, max_levels)\n",
    "\n",
    "def create_uniform_grid(bounds, voxel_size):\n",
    "    \"\"\"Create a uniform grid within the given bounds.\"\"\"\n",
    "    x = np.arange(bounds[0], bounds[1] + voxel_size, voxel_size)\n",
    "    y = np.arange(bounds[2], bounds[3] + voxel_size, voxel_size)\n",
    "    z = np.arange(bounds[4], bounds[5] + voxel_size, voxel_size)\n",
    "    return pv.StructuredGrid(*np.meshgrid(x, y, z))\n",
    "\n",
    "def voxelize_space(meshes, voxel_size, bounds):\n",
    "    \n",
    "    \"\"\"Voxelize space and check intersections with given mesh.\"\"\"\n",
    "\n",
    "    grid = create_uniform_grid(bounds, voxel_size)\n",
    "\n",
    "    num_points = grid.cell_centers().n_points\n",
    "\n",
    "    mask = np.zeros(num_points, dtype=bool)\n",
    "\n",
    "    print(f'Total number of voxels: {num_points}')\n",
    "\n",
    "    select_enclosed = vtk.vtkSelectEnclosedPoints()\n",
    "    select_enclosed.SetInputData(grid.cell_centers())\n",
    "\n",
    "    for mesh in meshes:\n",
    "        select_enclosed.SetSurfaceData(mesh)\n",
    "        select_enclosed.Update()\n",
    "        mask = np.logical_or(mask, np.array([select_enclosed.IsInside(i) for i in range(num_points)]))\n",
    "    \n",
    "    return grid, mask\n",
    "\n",
    "def voxelize(node, voxel_size, voxelized_representation, meshes):\n",
    "    if node.is_leaf:\n",
    "        if node.contains_mesh:\n",
    "            # Perform voxelization in this region using voxelize_space function\n",
    "            grid, mask = voxelize_space(meshes, voxel_size, node.bounds)\n",
    "            voxelized_representation.append((grid, mask))\n",
    "    else:\n",
    "        for child in node.children:\n",
    "            voxelize(child, voxel_size, voxelized_representation, meshes)"
   ]
  },
  {
   "cell_type": "markdown",
   "metadata": {},
   "source": [
    "## Importing IFC objects"
   ]
  },
  {
   "cell_type": "code",
   "execution_count": 8,
   "metadata": {},
   "outputs": [
    {
     "name": "stdout",
     "output_type": "stream",
     "text": [
      "Time taken to convert objects: 24.4697 seconds\n"
     ]
    }
   ],
   "source": [
    "#ifc_file = ifcopenshell.open(r\"IFC Files\\Project1.ifc\")\n",
    "#ifc_file = ifcopenshell.open(r\"IFC Files\\Duplex.ifc\")\n",
    "ifc_file = ifcopenshell.open(r\"IFC Files\\Clinic.ifc\")\n",
    "\n",
    "# convert IFC objects into vtk meshes\n",
    "start_time = time.time()\n",
    "\n",
    "all_meshes = vtk_block_by_building_element(ifc_file)\n",
    "\n",
    "end_time = time.time()\n",
    "print(f\"Time taken to convert objects: {end_time - start_time:.4f} seconds\")"
   ]
  },
  {
   "cell_type": "markdown",
   "metadata": {},
   "source": [
    "## Voxelization"
   ]
  },
  {
   "cell_type": "code",
   "execution_count": 9,
   "metadata": {},
   "outputs": [
    {
     "name": "stdout",
     "output_type": "stream",
     "text": [
      "Total number of voxels: 422940\n",
      "Time taken to voxelize: 276.4532 seconds\n"
     ]
    },
    {
     "data": {
      "application/vnd.jupyter.widget-view+json": {
       "model_id": "52b300b2de0d48a49d221de20046f6ed",
       "version_major": 2,
       "version_minor": 0
      },
      "text/plain": [
       "Widget(value=\"<iframe src='http://localhost:53772/index.html?ui=P_0x1ecaaef1930_2&reconnect=auto' style='width…"
      ]
     },
     "metadata": {},
     "output_type": "display_data"
    }
   ],
   "source": [
    "start_time = time.time()\n",
    "\n",
    "# Create the octree\n",
    "bounds = all_meshes.bounds # You'll need to determine these based on your data\n",
    "max_levels = 8 # Adjust based on your needs\n",
    "octree = Octree(bounds, max_levels)\n",
    "\n",
    "for mesh in all_meshes:\n",
    "    insert_mesh(octree.root, mesh, octree.max_levels)\n",
    "\n",
    "# Perform the voxelization\n",
    "voxel_size = 0.5  # Adjust based on your needs\n",
    "voxelized_representation = []\n",
    "voxelize(octree.root, voxel_size, voxelized_representation, all_meshes)\n",
    "\n",
    "end_time = time.time()\n",
    "print(f\"Time taken to voxelize: {end_time - start_time:.4f} seconds\")\n",
    "\n",
    "# Visualization\n",
    "p = pv.Plotter()\n",
    "\n",
    "for grid, mask in voxelized_representation:\n",
    "    p.add_mesh(grid.extract_cells(np.where(mask)[0]), color=\"blue\", show_edges=True, opacity=0.5)\n",
    "\n",
    "p.show()"
   ]
  },
  {
   "cell_type": "markdown",
   "metadata": {},
   "source": []
  }
 ],
 "metadata": {
  "kernelspec": {
   "display_name": "open3d",
   "language": "python",
   "name": "python3"
  },
  "language_info": {
   "codemirror_mode": {
    "name": "ipython",
    "version": 3
   },
   "file_extension": ".py",
   "mimetype": "text/x-python",
   "name": "python",
   "nbconvert_exporter": "python",
   "pygments_lexer": "ipython3",
   "version": "3.10.11"
  },
  "orig_nbformat": 4
 },
 "nbformat": 4,
 "nbformat_minor": 2
}
