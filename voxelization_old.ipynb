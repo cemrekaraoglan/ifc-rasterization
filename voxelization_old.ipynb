{
 "cells": [
  {
   "cell_type": "markdown",
   "metadata": {},
   "source": [
    "# IFC Rasterization for Efficient Spatial Analysis"
   ]
  },
  {
   "cell_type": "markdown",
   "metadata": {},
   "source": [
    "## Intro"
   ]
  },
  {
   "cell_type": "markdown",
   "metadata": {},
   "source": [
    "### Import libraries and the IFC model:"
   ]
  },
  {
   "cell_type": "code",
   "execution_count": 6,
   "metadata": {},
   "outputs": [],
   "source": [
    "import pyvista as pv\n",
    "import numpy as np\n",
    "from typing import Any, Tuple\n",
    "import ifcopenshell\n",
    "import logging\n",
    "from importlib import reload \n",
    "import multiprocessing\n",
    "import ifcopenshell\n",
    "import ifcopenshell.geom\n",
    "import time\n",
    "import vtk\n",
    "#ifc_file = ifcopenshell.open(r\"IFC Files\\Project1.ifc\")\n",
    "ifc_file = ifcopenshell.open(r\"IFC Files\\Duplex.ifc\")"
   ]
  },
  {
   "cell_type": "markdown",
   "metadata": {},
   "source": [
    "### Logging setup:"
   ]
  },
  {
   "cell_type": "code",
   "execution_count": 7,
   "metadata": {},
   "outputs": [],
   "source": [
    "#set up logging\n",
    "reload(logging)\n",
    "logging.basicConfig(format='%(asctime)s %(levelname)s:%(message)s', level=logging.INFO, filename=\"test.log\",  datefmt='%I:%M:%S')\n",
    "\n",
    "# Configure logging to write to a file\n",
    "# logging.basicConfig(filename='./app.log',  level=logging.INFO)\n",
    "logname=\"./vista.log\"\n",
    "logging.basicConfig(filename=logname,\n",
    "                    filemode='a',\n",
    "                    format='%(asctime)s,%(msecs)d %(name)s %(levelname)s %(message)s',\n",
    "                    datefmt='%H:%M:%S',\n",
    "                    level=logging.INFO)\n",
    "\n",
    "logging.info(\"Running IFC Voxelizer\")\n",
    "\n",
    "logger = logging.getLogger('IFCVoxelizer')\n",
    "logger.debug(\"hello\")"
   ]
  },
  {
   "cell_type": "markdown",
   "metadata": {},
   "source": [
    "## Functions"
   ]
  },
  {
   "cell_type": "code",
   "execution_count": 8,
   "metadata": {},
   "outputs": [],
   "source": [
    "def to_vtk_faces(faces : Tuple[tuple]) -> np.ndarray:\n",
    "    faces=np.array(faces, dtype=np.int16)\n",
    "    num_insertions = (len(faces) - 1) // 3\n",
    "    # Generate an array of indices for insertions\n",
    "    indices = np.arange(3, 3 * (num_insertions + 1), 3)\n",
    "    indices = np.insert(indices, 0, 0)\n",
    "    faces = np.insert(faces, indices, 3)\n",
    "    return faces\n",
    "\n",
    "def vtk_block_by_building_element(ifc_file):\n",
    "    building_elements = ifc_file.by_type(\"IfcBuildingElement\")\n",
    "    settings = ifcopenshell.geom.settings()\n",
    "    settings.set(settings.USE_WORLD_COORDS, True)\n",
    "    settings.set(settings.APPLY_DEFAULT_MATERIALS, True)\n",
    "    iterator = ifcopenshell.geom.iterator(settings, ifc_file, multiprocessing.cpu_count())\n",
    "    multiblock = pv.MultiBlock()\n",
    "    element_information = {} # Dictionary to hold element information\n",
    "    exclude_list = [\"IfcSpace\", \"IfcOpeningElement\"]\n",
    "\n",
    "    if iterator.initialize():\n",
    "        while True:\n",
    "            shape = iterator.get()\n",
    "            if shape.type not in exclude_list:\n",
    "                element = ifc_file.by_guid(shape.guid)\n",
    "                           \n",
    "                faces = shape.geometry.faces\n",
    "                verts = shape.geometry.verts\n",
    "                poly_data = pv.PolyData(list(verts), to_vtk_faces(faces))\n",
    "                multiblock.append(poly_data)\n",
    "                  \n",
    "                if element in building_elements:\n",
    "                #print(element.all_attributes()) --> why doesn't it work?\n",
    "                        \n",
    "                    element_information[shape.guid] = {\n",
    "                    \"Geo\": poly_data, \n",
    "                    \"Type\": shape.type,\n",
    "                    \"Name\": element.Name,\n",
    "                    \"Description\": element.Description\n",
    "                    }\n",
    "                               \n",
    "            if not iterator.next():\n",
    "                break\n",
    "                \n",
    "    return multiblock, element_information\n",
    "\n",
    "def create_uniform_grid(bounds, voxel_size):\n",
    "    \"\"\"Create a uniform grid within the given bounds.\"\"\"\n",
    "    x = np.arange(bounds[0], bounds[1] + voxel_size, voxel_size)\n",
    "    y = np.arange(bounds[2], bounds[3] + voxel_size, voxel_size)\n",
    "    z = np.arange(bounds[4], bounds[5] + voxel_size, voxel_size)\n",
    "    return pv.StructuredGrid(*np.meshgrid(x, y, z))\n",
    "\n",
    "def boxes_touch(A, B):\n",
    "    \"\"\"\n",
    "    Check if two 3D bounding boxes touch or overlap.\n",
    "    \n",
    "    Parameters:\n",
    "    - A, B: Tuples representing the bounds of boxes A and B.\n",
    "      Each tuple should be in the format (xmin, xmax, ymin, ymax, zmin, zmax).\n",
    "    \n",
    "    Returns:\n",
    "    - True if the boxes touch or overlap, otherwise False.\n",
    "    \"\"\"\n",
    "    \n",
    "    # Check for overlap in the x, y, and z dimensions\n",
    "    overlap_x = A[0] <= B[1] and A[1] >= B[0]\n",
    "    overlap_y = A[2] <= B[3] and A[3] >= B[2]\n",
    "    overlap_z = A[4] <= B[5] and A[5] >= B[4]\n",
    "    \n",
    "    # Return True if all dimensions overlap, otherwise False\n",
    "    return overlap_x and overlap_y and overlap_z\n"
   ]
  },
  {
   "cell_type": "code",
   "execution_count": 9,
   "metadata": {},
   "outputs": [],
   "source": [
    "def voxelize_space(meshes, voxel_size, mesh_info):\n",
    "    \"\"\"Voxelize space and check intersections with given mesh.\"\"\"\n",
    "    grid = create_uniform_grid(meshes.bounds, voxel_size)\n",
    "\n",
    "    num_points = grid.cell_centers().n_points\n",
    "\n",
    "    mask2 = np.zeros(num_points, dtype=bool)\n",
    "\n",
    "    cell_to_guid = {}\n",
    "\n",
    "    print(f'Total number of voxels: {num_points}')\n",
    "\n",
    "    for guid, mesh_data in mesh_info.items():\n",
    "\n",
    "        mesh = mesh_data['Geo']\n",
    "\n",
    "        mesh_bounds = mesh.bounds\n",
    "        \n",
    "        for i in range(num_points):\n",
    "\n",
    "            cell = grid.extract_cells(i)\n",
    "            cell_bounds = cell.bounds         \n",
    "\n",
    "            if boxes_touch(mesh_bounds, cell_bounds):\n",
    "                if not mask2[i]:\n",
    "                    mask2[i] = True\n",
    "                    cell_to_guid[i] = guid          \n",
    "                            \n",
    "    return grid, mask2, cell_to_guid"
   ]
  },
  {
   "cell_type": "markdown",
   "metadata": {},
   "source": [
    "## Voxelization"
   ]
  },
  {
   "cell_type": "code",
   "execution_count": 10,
   "metadata": {},
   "outputs": [
    {
     "name": "stdout",
     "output_type": "stream",
     "text": [
      "1694173266.3525405\n",
      "1694173269.6113575\n",
      "Total number of voxels: 17442\n"
     ]
    },
    {
     "ename": "KeyboardInterrupt",
     "evalue": "",
     "output_type": "error",
     "traceback": [
      "\u001b[1;31m---------------------------------------------------------------------------\u001b[0m",
      "\u001b[1;31mKeyboardInterrupt\u001b[0m                         Traceback (most recent call last)",
      "Cell \u001b[1;32mIn[10], line 14\u001b[0m\n\u001b[0;32m     11\u001b[0m voxel_size \u001b[39m=\u001b[39m \u001b[39m0.5\u001b[39m\n\u001b[0;32m     13\u001b[0m \u001b[39m# Voxelize the entire space of the combined mesh\u001b[39;00m\n\u001b[1;32m---> 14\u001b[0m grid, mask2, cell_info \u001b[39m=\u001b[39m voxelize_space(all_meshes, voxel_size, info)\n\u001b[0;32m     16\u001b[0m end_time \u001b[39m=\u001b[39m time\u001b[39m.\u001b[39mtime()\n\u001b[0;32m     18\u001b[0m \u001b[39m'''# Prepare to store cell-IFC-object mappings\u001b[39;00m\n\u001b[0;32m     19\u001b[0m \u001b[39mcell_data = {}\u001b[39;00m\n\u001b[0;32m     20\u001b[0m \n\u001b[0;32m     21\u001b[0m \u001b[39mfor cell_id, guid in cell_info.items():\u001b[39;00m\n\u001b[0;32m     22\u001b[0m \u001b[39m    cell_data[cell_id] = info[guid]\u001b[39;00m\n\u001b[0;32m     23\u001b[0m \u001b[39m'''\u001b[39;00m\n",
      "Cell \u001b[1;32mIn[9], line 21\u001b[0m, in \u001b[0;36mvoxelize_space\u001b[1;34m(meshes, voxel_size, mesh_info)\u001b[0m\n\u001b[0;32m     17\u001b[0m mesh_bounds \u001b[39m=\u001b[39m mesh\u001b[39m.\u001b[39mbounds\n\u001b[0;32m     19\u001b[0m \u001b[39mfor\u001b[39;00m i \u001b[39min\u001b[39;00m \u001b[39mrange\u001b[39m(num_points):\n\u001b[1;32m---> 21\u001b[0m     cell \u001b[39m=\u001b[39m grid\u001b[39m.\u001b[39;49mextract_cells(i)\n\u001b[0;32m     22\u001b[0m     cell_bounds \u001b[39m=\u001b[39m cell\u001b[39m.\u001b[39mbounds         \n\u001b[0;32m     24\u001b[0m     \u001b[39mif\u001b[39;00m boxes_touch(mesh_bounds, cell_bounds):\n",
      "File \u001b[1;32mc:\\Users\\cemre\\Repos\\Ifc-Voxelization\\.venv\\lib\\site-packages\\pyvista\\core\\filters\\data_set.py:4547\u001b[0m, in \u001b[0;36mDataSetFilters.extract_cells\u001b[1;34m(self, ind, invert, progress_bar)\u001b[0m\n\u001b[0;32m   4545\u001b[0m \u001b[39m# extracts only in float32\u001b[39;00m\n\u001b[0;32m   4546\u001b[0m \u001b[39mif\u001b[39;00m subgrid\u001b[39m.\u001b[39mn_points:\n\u001b[1;32m-> 4547\u001b[0m     \u001b[39mif\u001b[39;00m \u001b[39mself\u001b[39;49m\u001b[39m.\u001b[39;49mpoints\u001b[39m.\u001b[39mdtype \u001b[39m!=\u001b[39m np\u001b[39m.\u001b[39mdtype(\u001b[39m'\u001b[39m\u001b[39mfloat32\u001b[39m\u001b[39m'\u001b[39m):\n\u001b[0;32m   4548\u001b[0m         ind \u001b[39m=\u001b[39m subgrid\u001b[39m.\u001b[39mpoint_data[\u001b[39m'\u001b[39m\u001b[39mvtkOriginalPointIds\u001b[39m\u001b[39m'\u001b[39m]\n\u001b[0;32m   4549\u001b[0m         subgrid\u001b[39m.\u001b[39mpoints \u001b[39m=\u001b[39m \u001b[39mself\u001b[39m\u001b[39m.\u001b[39mpoints[ind]\n",
      "File \u001b[1;32mc:\\Users\\cemre\\Repos\\Ifc-Voxelization\\.venv\\lib\\site-packages\\pyvista\\core\\dataset.py:409\u001b[0m, in \u001b[0;36mDataSet.points\u001b[1;34m(self)\u001b[0m\n\u001b[0;32m    407\u001b[0m     \u001b[39mself\u001b[39m\u001b[39m.\u001b[39mSetPoints(vtkpts)\n\u001b[0;32m    408\u001b[0m     _points \u001b[39m=\u001b[39m \u001b[39mself\u001b[39m\u001b[39m.\u001b[39mGetPoints()\u001b[39m.\u001b[39mGetData()\n\u001b[1;32m--> 409\u001b[0m \u001b[39mreturn\u001b[39;00m pyvista_ndarray(_points, dataset\u001b[39m=\u001b[39;49m\u001b[39mself\u001b[39;49m)\n",
      "File \u001b[1;32mc:\\Users\\cemre\\Repos\\Ifc-Voxelization\\.venv\\lib\\site-packages\\pyvista\\core\\pyvista_ndarray.py:55\u001b[0m, in \u001b[0;36mpyvista_ndarray.__new__\u001b[1;34m(cls, array, dataset, association)\u001b[0m\n\u001b[0;32m     53\u001b[0m     obj \u001b[39m=\u001b[39m np\u001b[39m.\u001b[39masarray(array)\u001b[39m.\u001b[39mview(\u001b[39mcls\u001b[39m)\n\u001b[0;32m     54\u001b[0m \u001b[39melif\u001b[39;00m \u001b[39misinstance\u001b[39m(array, _vtk\u001b[39m.\u001b[39mvtkAbstractArray):\n\u001b[1;32m---> 55\u001b[0m     obj \u001b[39m=\u001b[39m convert_array(array)\u001b[39m.\u001b[39;49mview(\u001b[39mcls\u001b[39;49m)\n\u001b[0;32m     56\u001b[0m     obj\u001b[39m.\u001b[39mVTKObject \u001b[39m=\u001b[39m array\n\u001b[0;32m     57\u001b[0m \u001b[39melse\u001b[39;00m:\n",
      "File \u001b[1;32mc:\\Users\\cemre\\Repos\\Ifc-Voxelization\\.venv\\lib\\site-packages\\pyvista\\core\\pyvista_ndarray.py:81\u001b[0m, in \u001b[0;36mpyvista_ndarray.__array_finalize__\u001b[1;34m(self, obj)\u001b[0m\n\u001b[0;32m     73\u001b[0m \u001b[39m# this is necessary to ensure that views/slices of pyvista_ndarray\u001b[39;00m\n\u001b[0;32m     74\u001b[0m \u001b[39m# objects stay associated with those of their parents.\u001b[39;00m\n\u001b[0;32m     75\u001b[0m \u001b[39m#\u001b[39;00m\n\u001b[1;32m   (...)\u001b[0m\n\u001b[0;32m     78\u001b[0m \u001b[39m# convention, but here we just map those over to the appropriate\u001b[39;00m\n\u001b[0;32m     79\u001b[0m \u001b[39m# attributes of this class\u001b[39;00m\n\u001b[0;32m     80\u001b[0m _vtk\u001b[39m.\u001b[39mVTKArray\u001b[39m.\u001b[39m__array_finalize__(\u001b[39mself\u001b[39m, obj)\n\u001b[1;32m---> 81\u001b[0m \u001b[39mif\u001b[39;00m np\u001b[39m.\u001b[39;49mshares_memory(\u001b[39mself\u001b[39;49m, obj):\n\u001b[0;32m     82\u001b[0m     \u001b[39mself\u001b[39m\u001b[39m.\u001b[39mdataset \u001b[39m=\u001b[39m \u001b[39mgetattr\u001b[39m(obj, \u001b[39m'\u001b[39m\u001b[39mdataset\u001b[39m\u001b[39m'\u001b[39m, \u001b[39mNone\u001b[39;00m)\n\u001b[0;32m     83\u001b[0m     \u001b[39mself\u001b[39m\u001b[39m.\u001b[39massociation \u001b[39m=\u001b[39m \u001b[39mgetattr\u001b[39m(obj, \u001b[39m'\u001b[39m\u001b[39massociation\u001b[39m\u001b[39m'\u001b[39m, FieldAssociation\u001b[39m.\u001b[39mNONE)\n",
      "\u001b[1;31mKeyboardInterrupt\u001b[0m: "
     ]
    }
   ],
   "source": [
    "p = pv.Plotter()\n",
    "print(time.time())\n",
    "\n",
    "all_meshes, info = vtk_block_by_building_element(ifc_file)\n",
    "\n",
    "print(time.time())\n",
    "\n",
    "\n",
    "start_time = time.time()\n",
    "\n",
    "voxel_size = 0.5\n",
    "\n",
    "# Voxelize the entire space of the combined mesh\n",
    "grid, mask2, cell_info = voxelize_space(all_meshes, voxel_size, info)\n",
    "\n",
    "end_time = time.time()\n",
    "\n",
    "'''# Prepare to store cell-IFC-object mappings\n",
    "cell_data = {}\n",
    "\n",
    "for cell_id, guid in cell_info.items():\n",
    "    cell_data[cell_id] = info[guid]\n",
    "'''\n",
    "\n",
    "elapsed_time = end_time - start_time\n",
    "\n",
    "print(f\"Time taken to voxelize: {elapsed_time:.4f} seconds\")\n",
    "\n",
    "# Visualization\n",
    "p.add_mesh(grid, opacity=0.3, show_edges=True)\n",
    "\n",
    "p.add_mesh(grid.extract_cells(np.where(mask2)[0]), color=\"red\", opacity=0.5)\n",
    "\n",
    "p.show()\n",
    "\n",
    "\n",
    "\n"
   ]
  },
  {
   "cell_type": "markdown",
   "metadata": {},
   "source": []
  }
 ],
 "metadata": {
  "kernelspec": {
   "display_name": "open3d",
   "language": "python",
   "name": "python3"
  },
  "language_info": {
   "codemirror_mode": {
    "name": "ipython",
    "version": 3
   },
   "file_extension": ".py",
   "mimetype": "text/x-python",
   "name": "python",
   "nbconvert_exporter": "python",
   "pygments_lexer": "ipython3",
   "version": "3.10.11"
  },
  "orig_nbformat": 4
 },
 "nbformat": 4,
 "nbformat_minor": 2
}
