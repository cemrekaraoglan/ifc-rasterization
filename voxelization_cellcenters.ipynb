{
 "cells": [
  {
   "cell_type": "markdown",
   "metadata": {},
   "source": [
    "# IFC Rasterization for Efficient Spatial Analysis"
   ]
  },
  {
   "cell_type": "markdown",
   "metadata": {},
   "source": [
    "## Intro"
   ]
  },
  {
   "cell_type": "markdown",
   "metadata": {},
   "source": [
    "### Import libraries and the IFC model:"
   ]
  },
  {
   "cell_type": "code",
   "execution_count": 1,
   "metadata": {},
   "outputs": [],
   "source": [
    "import pyvista as pv\n",
    "import numpy as np\n",
    "from typing import Any, Tuple\n",
    "import ifcopenshell\n",
    "import logging\n",
    "from importlib import reload \n",
    "import multiprocessing\n",
    "import ifcopenshell\n",
    "import ifcopenshell.geom\n",
    "import time\n",
    "import vtk\n",
    "ifc_file = ifcopenshell.open(r\"IFC Files\\Project1.ifc\")\n",
    "#ifc_file = ifcopenshell.open(r\"IFC Files\\Duplex.ifc\")"
   ]
  },
  {
   "cell_type": "markdown",
   "metadata": {},
   "source": [
    "### Logging setup:"
   ]
  },
  {
   "cell_type": "markdown",
   "metadata": {},
   "source": [
    "## Functions"
   ]
  },
  {
   "cell_type": "code",
   "execution_count": 2,
   "metadata": {},
   "outputs": [],
   "source": [
    "def to_vtk_faces(faces : Tuple[tuple]) -> np.ndarray:\n",
    "    faces=np.array(faces, dtype=np.int16)\n",
    "    num_insertions = (len(faces) - 1) // 3\n",
    "    # Generate an array of indices for insertions\n",
    "    indices = np.arange(3, 3 * (num_insertions + 1), 3)\n",
    "    indices = np.insert(indices, 0, 0)\n",
    "    faces = np.insert(faces, indices, 3)\n",
    "    return faces\n",
    "\n",
    "def vtk_block_by_building_element(ifc_file):\n",
    "    building_elements = ifc_file.by_type(\"IfcBuildingElement\")\n",
    "    settings = ifcopenshell.geom.settings()\n",
    "    settings.set(settings.USE_WORLD_COORDS, True)\n",
    "    settings.set(settings.APPLY_DEFAULT_MATERIALS, True)\n",
    "    iterator = ifcopenshell.geom.iterator(settings, ifc_file, multiprocessing.cpu_count())\n",
    "    multiblock = pv.MultiBlock()\n",
    "    element_information = {} # Dictionary to hold element information\n",
    "    exclude_list = [\"IfcSpace\", \"IfcOpeningElement\"]\n",
    "\n",
    "    if iterator.initialize():\n",
    "        while True:\n",
    "            shape = iterator.get()\n",
    "            if shape.type not in exclude_list:\n",
    "                element = ifc_file.by_guid(shape.guid)\n",
    "                           \n",
    "                faces = shape.geometry.faces\n",
    "                verts = shape.geometry.verts\n",
    "                poly_data = pv.PolyData(list(verts), to_vtk_faces(faces))\n",
    "                multiblock.append(poly_data)\n",
    "                  \n",
    "                if element in building_elements:\n",
    "                #print(element.all_attributes()) --> why doesn't it work?\n",
    "                        \n",
    "                    element_information[shape.guid] = {\n",
    "                    \"Geo\": poly_data, \n",
    "                    \"Type\": shape.type,\n",
    "                    \"Name\": element.Name,\n",
    "                    \"Description\": element.Description\n",
    "                    }\n",
    "                            \n",
    "                       \n",
    "            if not iterator.next():\n",
    "                break\n",
    "                \n",
    "    return multiblock, element_information\n",
    "\n",
    "def create_uniform_grid(bounds, voxel_size):\n",
    "    \"\"\"Create a uniform grid within the given bounds.\"\"\"\n",
    "    x = np.arange(bounds[0], bounds[1] + voxel_size, voxel_size)\n",
    "    y = np.arange(bounds[2], bounds[3] + voxel_size, voxel_size)\n",
    "    z = np.arange(bounds[4], bounds[5] + voxel_size, voxel_size)\n",
    "    return pv.StructuredGrid(*np.meshgrid(x, y, z))\n",
    "\n",
    "def boxes_touch(A, B):\n",
    "    \"\"\"\n",
    "    Check if two 3D bounding boxes touch or overlap.\n",
    "    \n",
    "    Parameters:\n",
    "    - A, B: Tuples representing the bounds of boxes A and B.\n",
    "      Each tuple should be in the format (xmin, xmax, ymin, ymax, zmin, zmax).\n",
    "    \n",
    "    Returns:\n",
    "    - True if the boxes touch or overlap, otherwise False.\n",
    "    \"\"\"\n",
    "    \n",
    "    # Check for overlap in the x, y, and z dimensions\n",
    "    overlap_x = A[0] <= B[1] and A[1] >= B[0]\n",
    "    overlap_y = A[2] <= B[3] and A[3] >= B[2]\n",
    "    overlap_z = A[4] <= B[5] and A[5] >= B[4]\n",
    "    \n",
    "    # Return True if all dimensions overlap, otherwise False\n",
    "    return overlap_x and overlap_y and overlap_z\n"
   ]
  },
  {
   "cell_type": "code",
   "execution_count": 3,
   "metadata": {},
   "outputs": [],
   "source": [
    "def voxelize_space(meshes, voxel_size, mesh_info):\n",
    "    \"\"\"Voxelize space and check intersections with given mesh.\"\"\"\n",
    "    grid = create_uniform_grid(meshes.bounds, voxel_size)\n",
    "\n",
    "    num_points = grid.cell_centers().n_points\n",
    "\n",
    "    #mask = np.zeros(num_points, dtype=bool)\n",
    "    mask = np.zeros(num_points, dtype=bool)\n",
    "\n",
    "    cell_to_guid = {}\n",
    "\n",
    "    print(f'Total number of voxels: {num_points}')\n",
    "\n",
    "    select_enclosed = vtk.vtkSelectEnclosedPoints()\n",
    "    select_enclosed.SetInputData(grid.cell_centers())\n",
    "       \n",
    "    for guid, mesh_data in mesh_info.items():\n",
    "\n",
    "        mesh = mesh_data['Geo']\n",
    "        select_enclosed.SetSurfaceData(mesh)\n",
    "        select_enclosed.Update()\n",
    "\n",
    "        for i in range(num_points):\n",
    "\n",
    "            if not mask[i] and select_enclosed.IsInside(i):\n",
    "                mask[i] = True\n",
    "                cell_to_guid[i] = guid            \n",
    "                \n",
    "    return grid, mask, cell_to_guid"
   ]
  },
  {
   "cell_type": "markdown",
   "metadata": {},
   "source": [
    "## Voxelization"
   ]
  },
  {
   "cell_type": "code",
   "execution_count": 4,
   "metadata": {},
   "outputs": [
    {
     "name": "stdout",
     "output_type": "stream",
     "text": [
      "Total number of voxels: 10944\n",
      "Time taken to voxelize: 0.0372 seconds\n"
     ]
    },
    {
     "data": {
      "application/vnd.jupyter.widget-view+json": {
       "model_id": "94eac17b61244dd793178b0e99cd9ee3",
       "version_major": 2,
       "version_minor": 0
      },
      "text/plain": [
       "Widget(value=\"<iframe src='http://localhost:52619/index.html?ui=P_0x21f57bc7400_0&reconnect=auto' style='width…"
      ]
     },
     "metadata": {},
     "output_type": "display_data"
    },
    {
     "data": {
      "text/plain": [
       "'\\nnum_points = grid.cell_centers().n_points\\n\\n# Calculate difference\\ndiff_mask = mask != mask2\\n\\n# Get indices where masks differ\\nindices = np.where(diff_mask)[0]\\n\\nmask_dif = np.zeros(num_points, dtype=bool)\\nfor n in range(num_points):\\n    if n in indices:\\n        mask_dif[n] = True'"
      ]
     },
     "execution_count": 4,
     "metadata": {},
     "output_type": "execute_result"
    }
   ],
   "source": [
    "all_meshes, info = vtk_block_by_building_element(ifc_file)\n",
    "\n",
    "p = pv.Plotter()\n",
    "\n",
    "start_time = time.time()\n",
    "\n",
    "voxel_size = 0.2\n",
    "\n",
    "\n",
    "# Voxelize the entire space of the combined mesh\n",
    "grid, mask2, cell_info = voxelize_space(all_meshes, voxel_size, info)\n",
    "\n",
    "# Prepare to store cell-IFC-object mappings\n",
    "cell_data = {}\n",
    "\n",
    "for cell_id, guid in cell_info.items():\n",
    "    cell_data[cell_id] = info[guid]\n",
    "\n",
    "end_time = time.time()\n",
    "elapsed_time = end_time - start_time\n",
    "print(f\"Time taken to voxelize: {elapsed_time:.4f} seconds\")\n",
    "\n",
    "# Visualization\n",
    "p.add_mesh(grid, opacity=0.3, show_edges=True)\n",
    "#p.add_mesh(grid.extract_cells(np.where(mask)[0]), color=\"red\", opacity=0.7)\n",
    " \n",
    "p.add_mesh(grid.extract_cells(np.where(mask2)[0]), color=\"blue\", opacity=0.5)\n",
    "p.show()\n",
    "'''\n",
    "num_points = grid.cell_centers().n_points\n",
    "\n",
    "# Calculate difference\n",
    "diff_mask = mask != mask2\n",
    "\n",
    "# Get indices where masks differ\n",
    "indices = np.where(diff_mask)[0]\n",
    "\n",
    "mask_dif = np.zeros(num_points, dtype=bool)\n",
    "for n in range(num_points):\n",
    "    if n in indices:\n",
    "        mask_dif[n] = True'''\n",
    "\n",
    "\n"
   ]
  },
  {
   "cell_type": "code",
   "execution_count": 5,
   "metadata": {},
   "outputs": [
    {
     "ename": "NameError",
     "evalue": "name 'num_points' is not defined",
     "output_type": "error",
     "traceback": [
      "\u001b[1;31m---------------------------------------------------------------------------\u001b[0m",
      "\u001b[1;31mNameError\u001b[0m                                 Traceback (most recent call last)",
      "Cell \u001b[1;32mIn[5], line 28\u001b[0m\n\u001b[0;32m     24\u001b[0m                     mask2[i] \u001b[39m=\u001b[39m \u001b[39mTrue\u001b[39;00m\n\u001b[0;32m     26\u001b[0m     \u001b[39mreturn\u001b[39;00m grid, mask, mask2\n\u001b[1;32m---> 28\u001b[0m \u001b[39mfor\u001b[39;00m n \u001b[39min\u001b[39;00m \u001b[39mrange\u001b[39m(num_points):\n\u001b[0;32m     29\u001b[0m     \u001b[39mif\u001b[39;00m mask_dif[n] \u001b[39m==\u001b[39m \u001b[39mTrue\u001b[39;00m:\n\u001b[0;32m     30\u001b[0m         cell \u001b[39m=\u001b[39m grid\u001b[39m.\u001b[39mextract_cells(n)\n",
      "\u001b[1;31mNameError\u001b[0m: name 'num_points' is not defined"
     ]
    }
   ],
   "source": [
    "def detailed_voxelization(cell_bounds, voxel_size, mesh_info):\n",
    "    grid = create_uniform_grid(cell_bounds, voxel_size)\n",
    "    num_points = grid.cell_centers().n_points\n",
    "    mask = np.zeros(num_points, dtype=bool)\n",
    "    mask2 = np.zeros(num_points, dtype=bool)\n",
    "    select_enclosed = vtk.vtkSelectEnclosedPoints()\n",
    "    select_enclosed.SetInputData(grid.cell_centers())\n",
    "\n",
    "    for guid, mesh_data in mesh_info.items():\n",
    "        mesh = mesh_data['Geo']\n",
    "        mesh_bounds = mesh.bounds\n",
    "        select_enclosed.SetSurfaceData(mesh)\n",
    "        select_enclosed.Update()\n",
    "    \n",
    "        for i in range(num_points):\n",
    "            cell = grid.extract_cells(i)\n",
    "            cell_bounds = cell.bounds                   \n",
    "                \n",
    "            if not mask[i] and select_enclosed.IsInside(i):\n",
    "                mask[i] = True\n",
    "\n",
    "            if boxes_touch(mesh_bounds, cell_bounds):\n",
    "                if not mask2[i]:\n",
    "                    mask2[i] = True\n",
    "                \n",
    "    return grid, mask, mask2\n",
    "\n",
    "for n in range(num_points):\n",
    "    if mask_dif[n] == True:\n",
    "        cell = grid.extract_cells(n)\n",
    "        cell_bounds = cell.bounds                   \n",
    "        \n",
    "        det_grid, det_mask1, det_mask2 = detailed_voxelization(cell_bounds, voxel_size/2, info)\n",
    "\n",
    "        p.add_mesh(det_grid.extract_cells(np.where(det_mask2)[0]), color=\"red\", opacity=0.7)\n",
    "\n",
    "p.add_mesh(grid.extract_cells(np.where(mask_dif)[0]), color = \"green\", opacity=0.2)\n",
    "p.show()\n",
    "        "
   ]
  },
  {
   "cell_type": "markdown",
   "metadata": {},
   "source": []
  }
 ],
 "metadata": {
  "kernelspec": {
   "display_name": "open3d",
   "language": "python",
   "name": "python3"
  },
  "language_info": {
   "codemirror_mode": {
    "name": "ipython",
    "version": 3
   },
   "file_extension": ".py",
   "mimetype": "text/x-python",
   "name": "python",
   "nbconvert_exporter": "python",
   "pygments_lexer": "ipython3",
   "version": "3.10.11"
  },
  "orig_nbformat": 4
 },
 "nbformat": 4,
 "nbformat_minor": 2
}
