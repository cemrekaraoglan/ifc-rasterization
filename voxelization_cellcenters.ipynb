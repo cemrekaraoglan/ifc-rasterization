{
 "cells": [
  {
   "cell_type": "markdown",
   "metadata": {},
   "source": [
    "# IFC Rasterization for Efficient Spatial Analysis"
   ]
  },
  {
   "cell_type": "markdown",
   "metadata": {},
   "source": [
    "## Intro"
   ]
  },
  {
   "cell_type": "markdown",
   "metadata": {},
   "source": [
    "### Import libraries and the IFC model:"
   ]
  },
  {
   "cell_type": "markdown",
   "metadata": {},
   "source": [
    "## Functions"
   ]
  },
  {
   "cell_type": "code",
   "execution_count": 3,
   "metadata": {},
   "outputs": [],
   "source": [
    "import pyvista as pv\n",
    "import numpy as np\n",
    "from typing import Any, Tuple\n",
    "import ifcopenshell\n",
    "from importlib import reload \n",
    "import multiprocessing\n",
    "import ifcopenshell\n",
    "import ifcopenshell.geom\n",
    "import time\n",
    "from functools import reduce\n",
    "import vtk\n",
    "ifc_file = ifcopenshell.open(r\"IFC Files\\Project1.ifc\")\n",
    "#ifc_file = ifcopenshell.open(r\"IFC Files\\Duplex.ifc\")\n",
    "#ifc_file = ifcopenshell.open(r\"IFC Files\\Clinic.ifc\")\n",
    "\n",
    "def to_vtk_faces(faces : Tuple[tuple]) -> np.ndarray:\n",
    "\n",
    "    faces=np.array(faces, dtype=np.int16)\n",
    "    num_insertions = (len(faces) - 1) // 3\n",
    "\n",
    "    # Generate an array of indices for insertions\n",
    "    indices = np.arange(3, 3 * (num_insertions + 1), 3)\n",
    "    indices = np.insert(indices, 0, 0)\n",
    "    faces = np.insert(faces, indices, 3) \n",
    "    return faces\n",
    "\n",
    "def vtk_block_by_building_element(ifc_file):\n",
    "    settings = ifcopenshell.geom.settings()\n",
    "    settings.set(settings.USE_WORLD_COORDS, True)\n",
    "    settings.set(settings.APPLY_DEFAULT_MATERIALS, True)\n",
    "    iterator = ifcopenshell.geom.iterator(settings, ifc_file, multiprocessing.cpu_count())\n",
    "    exclude_list = [\"IfcSpace\", \"IfcOpeningElement\"]\n",
    "    multiblock = pv.MultiBlock()\n",
    "\n",
    "    if iterator.initialize():\n",
    "        polydata_list = []\n",
    "        while True:\n",
    "            shape = iterator.get()\n",
    "            if shape.type not in exclude_list:\n",
    "                faces = shape.geometry.faces\n",
    "                verts = shape.geometry.verts\n",
    "                poly_data = pv.PolyData(list(verts), to_vtk_faces(faces))\n",
    "                multiblock.append(poly_data)\n",
    "                #polydata_list.append(poly_data)\n",
    "                \n",
    "            if not iterator.next():\n",
    "                break\n",
    "\n",
    "    #merged = reduce(lambda acc, x: acc.merge(x), polydata_list)\n",
    "               \n",
    "    return multiblock\n",
    "\n",
    "def create_uniform_grid(bounds, voxel_size):\n",
    "    \"\"\"Create a uniform grid within the given bounds.\"\"\"\n",
    "    x = np.arange(bounds[0], bounds[1] + voxel_size, voxel_size)\n",
    "    y = np.arange(bounds[2], bounds[3] + voxel_size, voxel_size)\n",
    "    z = np.arange(bounds[4], bounds[5] + voxel_size, voxel_size)\n",
    "    return pv.StructuredGrid(*np.meshgrid(x, y, z))\n",
    "\n",
    "def voxelize_space(meshes, voxel_size):\n",
    "    \n",
    "    \"\"\"Voxelize space and check intersections with given mesh.\"\"\"\n",
    "\n",
    "    grid = create_uniform_grid(meshes.bounds, voxel_size)\n",
    "\n",
    "    num_points = grid.cell_centers().n_points\n",
    "\n",
    "    mask = np.zeros(num_points, dtype=bool)\n",
    "\n",
    "    print(f'Total number of voxels: {num_points}')\n",
    "\n",
    "    select_enclosed = vtk.vtkSelectEnclosedPoints()\n",
    "    select_enclosed.SetInputData(grid.cell_centers())\n",
    "\n",
    "    #lambda function to check each mesh in the multiblock against the grid\n",
    "    for mesh in meshes:\n",
    "        select_enclosed.SetSurfaceData(mesh)\n",
    "        select_enclosed.Update()\n",
    "        # write a lambda function to check if a point is inside the mesh\n",
    "        # and use it to set the mask\n",
    "        mask = np.logical_or(mask, np.array([select_enclosed.IsInside(i) for i in range(num_points)]))\n",
    "    \n",
    "    return grid, mask\n"
   ]
  },
  {
   "cell_type": "markdown",
   "metadata": {},
   "source": [
    "## Voxelization"
   ]
  },
  {
   "cell_type": "code",
   "execution_count": 4,
   "metadata": {},
   "outputs": [
    {
     "name": "stdout",
     "output_type": "stream",
     "text": [
      "Time taken to convert objects: 0.2380 seconds\n"
     ]
    }
   ],
   "source": [
    "# convert IFC objects into vtk meshes\n",
    "\n",
    "start_time = time.time()\n",
    "\n",
    "all_meshes = vtk_block_by_building_element(ifc_file)\n",
    "\n",
    "end_time = time.time()\n",
    "print(f\"Time taken to convert objects: {end_time - start_time:.4f} seconds\")"
   ]
  },
  {
   "cell_type": "code",
   "execution_count": 5,
   "metadata": {},
   "outputs": [
    {
     "name": "stdout",
     "output_type": "stream",
     "text": [
      "Total number of voxels: 10944\n",
      "Time taken to voxelize: 0.0656 seconds\n"
     ]
    },
    {
     "data": {
      "application/vnd.jupyter.widget-view+json": {
       "model_id": "02cb15a1a7ff4e879d4f4804ade4c487",
       "version_major": 2,
       "version_minor": 0
      },
      "text/plain": [
       "Widget(value=\"<iframe src='http://localhost:54680/index.html?ui=P_0x2749863bd60_0&reconnect=auto' style='width…"
      ]
     },
     "metadata": {},
     "output_type": "display_data"
    }
   ],
   "source": [
    "# Voxelize the entire space and check for intersections with the meshes\n",
    "voxel_size = 0.2\n",
    "\n",
    "start_time = time.time()\n",
    "\n",
    "grid, mask = voxelize_space(all_meshes, voxel_size)\n",
    "\n",
    "end_time = time.time()\n",
    "print(f\"Time taken to voxelize: {end_time - start_time:.4f} seconds\")\n",
    "\n",
    "# Visualization\n",
    "p = pv.Plotter()\n",
    "p.add_mesh(grid, opacity=0.3, show_edges=True) \n",
    "p.add_mesh(grid.extract_cells(np.where(mask)[0]), color=\"blue\", opacity=0.5)\n",
    "p.show()"
   ]
  },
  {
   "cell_type": "markdown",
   "metadata": {},
   "source": []
  }
 ],
 "metadata": {
  "kernelspec": {
   "display_name": "open3d",
   "language": "python",
   "name": "python3"
  },
  "language_info": {
   "codemirror_mode": {
    "name": "ipython",
    "version": 3
   },
   "file_extension": ".py",
   "mimetype": "text/x-python",
   "name": "python",
   "nbconvert_exporter": "python",
   "pygments_lexer": "ipython3",
   "version": "3.10.11"
  },
  "orig_nbformat": 4
 },
 "nbformat": 4,
 "nbformat_minor": 2
}
